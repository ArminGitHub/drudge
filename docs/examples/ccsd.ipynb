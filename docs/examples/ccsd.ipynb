{
 "cells": [
  {
   "cell_type": "markdown",
   "metadata": {
    "deletable": true,
    "editable": true
   },
   "source": [
    "# Automatic derivation of CCSD theory\n",
    "\n",
    "This notebook serves as an example of interactive usage of drudge for complex symbolic manipulations in Jupyter notebooks.  Here we can see how the classical CCSD theory can be derived automatically."
   ]
  },
  {
   "cell_type": "markdown",
   "metadata": {
    "deletable": true,
    "editable": true
   },
   "source": [
    "## Preparatory work\n",
    "\n",
    "First, we need to set up the Spark environment.  Here we just use parallelization on the local machine."
   ]
  },
  {
   "cell_type": "code",
   "execution_count": 1,
   "metadata": {
    "collapsed": true,
    "deletable": true,
    "editable": true
   },
   "outputs": [],
   "source": [
    "from pyspark import SparkContext\n",
    "ctx = SparkContext('local[*]', 'ccsd')"
   ]
  },
  {
   "cell_type": "markdown",
   "metadata": {
    "deletable": true,
    "editable": true
   },
   "source": [
    "Or we can also use the dummy spark to emulate the Spark environment in a purely serial way.  Note that we need just **one** Spark context.  These two cells should not be both evaluated."
   ]
  },
  {
   "cell_type": "code",
   "execution_count": null,
   "metadata": {
    "collapsed": true,
    "deletable": true,
    "editable": true
   },
   "outputs": [],
   "source": [
    "from dummy_spark import SparkContext\n",
    "ctx = SparkContext()"
   ]
  },
  {
   "cell_type": "markdown",
   "metadata": {
    "deletable": true,
    "editable": true
   },
   "source": [
    "With the Spark context, we can construct the drudge specific for this problem.  Then we can define some names that is going to be used frequently."
   ]
  },
  {
   "cell_type": "code",
   "execution_count": 2,
   "metadata": {
    "collapsed": false,
    "deletable": true,
    "editable": true
   },
   "outputs": [],
   "source": [
    "from sympy import *\n",
    "from drudge import *\n",
    "\n",
    "dr = PartHoleDrudge(ctx)\n",
    "p = dr.names\n",
    "\n",
    "c_ = p.c_\n",
    "c_dag = p.c_dag\n",
    "a, b = p.V_dumms[:2]\n",
    "i, j = p.O_dumms[:2]"
   ]
  },
  {
   "cell_type": "markdown",
   "metadata": {
    "deletable": true,
    "editable": true
   },
   "source": [
    "## Cluster excitation operator\n",
    "\n",
    "Here, we by using the Einstein summation convention tensor creator, we can just define the cluster operator in a way very similar to how we would writen them down on paper."
   ]
  },
  {
   "cell_type": "code",
   "execution_count": 3,
   "metadata": {
    "collapsed": false,
    "deletable": true,
    "editable": true
   },
   "outputs": [],
   "source": [
    "t1 = IndexedBase('t^1')\n",
    "t2 = IndexedBase('t^2')\n",
    "\n",
    "clusters = dr.einst(\n",
    "    t1[a, i] * c_dag[a] * c_[i] +\n",
    "    Rational(1, 4) * t2[a, b, i, j] * c_dag[a] * c_dag[b] * c_[j] * c_[i]\n",
    ")"
   ]
  },
  {
   "cell_type": "markdown",
   "metadata": {
    "deletable": true,
    "editable": true
   },
   "source": [
    "We can have a peek at the cluster operator."
   ]
  },
  {
   "cell_type": "code",
   "execution_count": 4,
   "metadata": {
    "collapsed": false,
    "deletable": true,
    "editable": true
   },
   "outputs": [
    {
     "data": {
      "text/latex": [
       "$$\\sum_{i \\in O} \\sum_{a \\in V} t^{1}_{a,i} c^{\\dagger}_{a} c^{}_{i}  + \\sum_{i \\in O} \\sum_{j \\in O} \\sum_{a \\in V} \\sum_{b \\in V} \\frac{1}{4} t^{2}_{a,b,i,j} c^{\\dagger}_{a} c^{\\dagger}_{b} c^{}_{j} c^{}_{i}$$"
      ],
      "text/plain": [
       "<IPython.core.display.Math object>"
      ]
     },
     "execution_count": 4,
     "metadata": {},
     "output_type": "execute_result"
    }
   ],
   "source": [
    "clusters.display()"
   ]
  },
  {
   "cell_type": "markdown",
   "metadata": {
    "deletable": true,
    "editable": true
   },
   "source": [
    "Now we need tell the system about the symmetry on $t^2$, so that it can be used in simplification."
   ]
  },
  {
   "cell_type": "code",
   "execution_count": 5,
   "metadata": {
    "collapsed": false,
    "deletable": true,
    "editable": true
   },
   "outputs": [],
   "source": [
    "dr.set_dbbar_base(t2, 2)"
   ]
  },
  {
   "cell_type": "markdown",
   "metadata": {
    "collapsed": true,
    "deletable": true,
    "editable": true
   },
   "source": [
    "## Similarity transform of the Hamiltonian\n",
    "\n",
    "Here we can use a loop to nest the commutation conveniently.  And IPython magic can be used to time the operation.  Note that after the simplification, we explicitly redistribute the terms in the transformed Hamiltonian for better parallel performance in later operations.  Note that `drudge` does not automatically cache the result of tensor computations.  The `cache` method should be called explicitly when a tensor is going to be used multiple times."
   ]
  },
  {
   "cell_type": "code",
   "execution_count": 6,
   "metadata": {
    "collapsed": false,
    "deletable": true,
    "editable": true
   },
   "outputs": [
    {
     "name": "stdout",
     "output_type": "stream",
     "text": [
      "CPU times: user 273 ms, sys: 37.2 ms, total: 310 ms\n",
      "Wall time: 43.1 s\n"
     ]
    }
   ],
   "source": [
    "%%time\n",
    "\n",
    "curr = dr.ham\n",
    "h_bar = dr.ham\n",
    "for order in range(0, 4):\n",
    "    curr = (curr | clusters).simplify() * Rational(1, order + 1)\n",
    "    curr.cache()\n",
    "    h_bar += curr\n",
    "h_bar.repartition(cache=True)"
   ]
  },
  {
   "cell_type": "markdown",
   "metadata": {
    "collapsed": true,
    "deletable": true,
    "editable": true
   },
   "source": [
    "The transformed Hamiltonian can be very complex.  Instead of reading its terms, we can just have a peek by get a count of the number of terms it contains."
   ]
  },
  {
   "cell_type": "code",
   "execution_count": 7,
   "metadata": {
    "collapsed": false,
    "deletable": true,
    "editable": true
   },
   "outputs": [
    {
     "data": {
      "text/plain": [
       "255"
      ]
     },
     "execution_count": 7,
     "metadata": {},
     "output_type": "execute_result"
    }
   ],
   "source": [
    "h_bar.n_terms"
   ]
  },
  {
   "cell_type": "markdown",
   "metadata": {
    "deletable": true,
    "editable": true
   },
   "source": [
    "## Working equation derivation\n",
    "\n",
    "With the similarity transformed Hamiltonian, we are now ready to derive the actual working equations.  First, the energy equation can be derived by taking the vacuum expectation value of the transformed Hamiltonian."
   ]
  },
  {
   "cell_type": "code",
   "execution_count": 8,
   "metadata": {
    "collapsed": true,
    "deletable": true,
    "editable": true
   },
   "outputs": [],
   "source": [
    "en_eqn = h_bar.eval_fermi_vev().simplify()"
   ]
  },
  {
   "cell_type": "markdown",
   "metadata": {
    "deletable": true,
    "editable": true
   },
   "source": [
    "We can have a look at its contents to see if it is what we would expect."
   ]
  },
  {
   "cell_type": "code",
   "execution_count": 9,
   "metadata": {
    "collapsed": false,
    "deletable": true,
    "editable": true
   },
   "outputs": [
    {
     "data": {
      "text/latex": [
       "$$\\sum_{i \\in O} \\sum_{a \\in V} f_{i,a} t^{1}_{a,i}   + \\sum_{i \\in O} \\sum_{j \\in O} \\sum_{a \\in V} \\sum_{b \\in V} \\frac{1}{4} t^{2}_{a,b,i,j} u_{i,j,a,b}   + \\sum_{i \\in O} \\sum_{j \\in O} \\sum_{a \\in V} \\sum_{b \\in V} \\frac{1}{2} t^{1}_{a,i} t^{1}_{b,j} u_{i,j,a,b} $$"
      ],
      "text/plain": [
       "<IPython.core.display.Math object>"
      ]
     },
     "execution_count": 9,
     "metadata": {},
     "output_type": "execute_result"
    }
   ],
   "source": [
    "en_eqn.display()"
   ]
  },
  {
   "cell_type": "markdown",
   "metadata": {
    "deletable": true,
    "editable": true
   },
   "source": [
    "Next, we can create a projector to derive the working equation for the singles amplitude.\n"
   ]
  },
  {
   "cell_type": "code",
   "execution_count": 10,
   "metadata": {
    "collapsed": true,
    "deletable": true,
    "editable": true
   },
   "outputs": [],
   "source": [
    "proj = c_dag[i] * c_[a]\n",
    "t1_eqn = (proj * h_bar).eval_fermi_vev().simplify()"
   ]
  },
  {
   "cell_type": "markdown",
   "metadata": {
    "deletable": true,
    "editable": true
   },
   "source": [
    "In the same way, we can display its content."
   ]
  },
  {
   "cell_type": "code",
   "execution_count": 11,
   "metadata": {
    "collapsed": false,
    "deletable": true,
    "editable": true
   },
   "outputs": [
    {
     "data": {
      "text/latex": [
       "$$\\sum_{j \\in O} \\sum_{b \\in V} \\sum_{c \\in V} \\frac{1}{2} t^{2}_{b,c,i,j} u_{a,j,b,c}   + \\sum_{j \\in O} \\sum_{b \\in V} \\sum_{c \\in V} t^{1}_{b,i} t^{1}_{c,j} u_{a,j,b,c}  - \\sum_{j \\in O} \\sum_{k \\in O} \\sum_{b \\in V}  \\frac{1}{2} t^{2}_{a,b,j,k} u_{j,k,i,b}  - \\sum_{j \\in O} \\sum_{k \\in O} \\sum_{b \\in V} t^{1}_{a,j} t^{1}_{b,k} u_{j,k,i,b}   + f_{a,i}  - \\sum_{j \\in O} f_{j,i} t^{1}_{a,j}   + \\sum_{b \\in V} f_{a,b} t^{1}_{b,i}   + \\sum_{j \\in O} \\sum_{k \\in O} \\sum_{b \\in V} \\sum_{c \\in V} t^{1}_{b,j} t^{2}_{a,c,i,k} u_{j,k,b,c}  - \\sum_{j \\in O} \\sum_{k \\in O} \\sum_{b \\in V} \\sum_{c \\in V}  \\frac{1}{2} t^{1}_{a,j} t^{2}_{b,c,i,k} u_{j,k,b,c}  - \\sum_{j \\in O} \\sum_{k \\in O} \\sum_{b \\in V} \\sum_{c \\in V}  \\frac{1}{2} t^{1}_{b,i} t^{2}_{a,c,j,k} u_{j,k,b,c}  - \\sum_{j \\in O} \\sum_{k \\in O} \\sum_{b \\in V} \\sum_{c \\in V} t^{1}_{a,j} t^{1}_{b,i} t^{1}_{c,k} u_{j,k,b,c}   + \\sum_{j \\in O} \\sum_{b \\in V} f_{j,b} t^{2}_{a,b,i,j}   + \\sum_{j \\in O} \\sum_{b \\in V} t^{1}_{b,j} u_{a,j,i,b}  - \\sum_{j \\in O} \\sum_{b \\in V} f_{j,b} t^{1}_{a,j} t^{1}_{b,i} $$"
      ],
      "text/plain": [
       "<IPython.core.display.Math object>"
      ]
     },
     "execution_count": 11,
     "metadata": {},
     "output_type": "execute_result"
    }
   ],
   "source": [
    "t1_eqn.display()"
   ]
  },
  {
   "cell_type": "markdown",
   "metadata": {
    "deletable": true,
    "editable": true
   },
   "source": [
    "The working equation for the doubles amplitude can be done in the same way, just it can be slower."
   ]
  },
  {
   "cell_type": "code",
   "execution_count": 12,
   "metadata": {
    "collapsed": false,
    "deletable": true,
    "editable": true
   },
   "outputs": [
    {
     "name": "stdout",
     "output_type": "stream",
     "text": [
      "CPU times: user 62.6 ms, sys: 9.47 ms, total: 72 ms\n",
      "Wall time: 16.9 s\n"
     ]
    }
   ],
   "source": [
    "%%time\n",
    "\n",
    "proj = c_dag[i] * c_dag[j] * c_[b] * c_[a]\n",
    "t2_eqn = (proj * h_bar).eval_fermi_vev().simplify()"
   ]
  },
  {
   "cell_type": "markdown",
   "metadata": {
    "deletable": true,
    "editable": true
   },
   "source": [
    "Since the equation can be slightly complex, we can vaguely sort the terms in increasing complexity before display them."
   ]
  },
  {
   "cell_type": "code",
   "execution_count": 13,
   "metadata": {
    "collapsed": false,
    "deletable": true,
    "editable": true
   },
   "outputs": [
    {
     "data": {
      "text/latex": [
       "$$u_{a,b,i,j}   + \\sum_{k \\in O} t^{1}_{a,k} u_{b,k,i,j}  - \\sum_{k \\in O} f_{k,i} t^{2}_{a,b,k,j}  - \\sum_{k \\in O} f_{k,j} t^{2}_{a,b,i,k}  - \\sum_{k \\in O} t^{1}_{b,k} u_{a,k,i,j}   + \\sum_{c \\in V} f_{b,c} t^{2}_{a,c,i,j}   + \\sum_{c \\in V} t^{1}_{c,i} u_{a,b,c,j}   + \\sum_{c \\in V} t^{1}_{c,j} u_{a,b,i,c}  - \\sum_{c \\in V} f_{a,c} t^{2}_{b,c,i,j}   + \\sum_{k \\in O} \\sum_{l \\in O} \\frac{1}{2} t^{2}_{a,b,k,l} u_{k,l,i,j}   + \\sum_{k \\in O} \\sum_{l \\in O} t^{1}_{a,k} t^{1}_{b,l} u_{k,l,i,j}   + \\sum_{k \\in O} \\sum_{c \\in V} t^{2}_{a,c,k,j} u_{b,k,i,c}   + \\sum_{k \\in O} \\sum_{c \\in V} t^{2}_{b,c,i,k} u_{a,k,c,j}  - \\sum_{k \\in O} \\sum_{c \\in V} t^{2}_{a,c,i,k} u_{b,k,c,j}  - \\sum_{k \\in O} \\sum_{c \\in V} t^{2}_{b,c,k,j} u_{a,k,i,c}   + \\sum_{k \\in O} \\sum_{c \\in V} f_{k,c} t^{1}_{a,k} t^{2}_{b,c,i,j}   + \\sum_{k \\in O} \\sum_{c \\in V} t^{1}_{a,k} t^{1}_{c,i} u_{b,k,c,j}   + \\sum_{k \\in O} \\sum_{c \\in V} t^{1}_{a,k} t^{1}_{c,j} u_{b,k,i,c}  - \\sum_{k \\in O} \\sum_{c \\in V} f_{k,c} t^{1}_{b,k} t^{2}_{a,c,i,j}  - \\sum_{k \\in O} \\sum_{c \\in V} f_{k,c} t^{1}_{c,i} t^{2}_{a,b,k,j}  - \\sum_{k \\in O} \\sum_{c \\in V} f_{k,c} t^{1}_{c,j} t^{2}_{a,b,i,k}  - \\sum_{k \\in O} \\sum_{c \\in V} t^{1}_{b,k} t^{1}_{c,i} u_{a,k,c,j}  - \\sum_{k \\in O} \\sum_{c \\in V} t^{1}_{b,k} t^{1}_{c,j} u_{a,k,i,c}   + \\sum_{c \\in V} \\sum_{d \\in V} \\frac{1}{2} t^{2}_{c,d,i,j} u_{a,b,c,d}   + \\sum_{c \\in V} \\sum_{d \\in V} t^{1}_{c,i} t^{1}_{d,j} u_{a,b,c,d}   + \\sum_{k \\in O} \\sum_{l \\in O} \\sum_{c \\in V} t^{1}_{a,k} t^{2}_{b,c,l,j} u_{k,l,i,c}   + \\sum_{k \\in O} \\sum_{l \\in O} \\sum_{c \\in V} t^{1}_{b,k} t^{2}_{a,c,i,l} u_{k,l,c,j}   + \\sum_{k \\in O} \\sum_{l \\in O} \\sum_{c \\in V} t^{1}_{c,k} t^{2}_{a,b,l,j} u_{k,l,i,c}  - \\sum_{k \\in O} \\sum_{l \\in O} \\sum_{c \\in V} t^{1}_{a,k} t^{2}_{b,c,i,l} u_{k,l,c,j}  - \\sum_{k \\in O} \\sum_{l \\in O} \\sum_{c \\in V} t^{1}_{b,k} t^{2}_{a,c,l,j} u_{k,l,i,c}   + \\sum_{k \\in O} \\sum_{l \\in O} \\sum_{c \\in V} \\frac{1}{2} t^{1}_{c,i} t^{2}_{a,b,k,l} u_{k,l,c,j}   + \\sum_{k \\in O} \\sum_{l \\in O} \\sum_{c \\in V} \\frac{1}{2} t^{1}_{c,j} t^{2}_{a,b,k,l} u_{k,l,i,c}  - \\sum_{k \\in O} \\sum_{l \\in O} \\sum_{c \\in V} t^{1}_{c,k} t^{2}_{a,b,i,l} u_{k,l,c,j}   + \\sum_{k \\in O} \\sum_{l \\in O} \\sum_{c \\in V} t^{1}_{a,k} t^{1}_{b,l} t^{1}_{c,i} u_{k,l,c,j}   + \\sum_{k \\in O} \\sum_{l \\in O} \\sum_{c \\in V} t^{1}_{a,k} t^{1}_{b,l} t^{1}_{c,j} u_{k,l,i,c}   + \\sum_{k \\in O} \\sum_{c \\in V} \\sum_{d \\in V} t^{1}_{c,i} t^{2}_{a,d,k,j} u_{b,k,c,d}   + \\sum_{k \\in O} \\sum_{c \\in V} \\sum_{d \\in V} t^{1}_{c,j} t^{2}_{a,d,i,k} u_{b,k,c,d}   + \\sum_{k \\in O} \\sum_{c \\in V} \\sum_{d \\in V} t^{1}_{c,k} t^{2}_{b,d,i,j} u_{a,k,c,d}   + \\sum_{k \\in O} \\sum_{c \\in V} \\sum_{d \\in V} \\frac{1}{2} t^{1}_{a,k} t^{2}_{c,d,i,j} u_{b,k,c,d}  - \\sum_{k \\in O} \\sum_{c \\in V} \\sum_{d \\in V} t^{1}_{c,i} t^{2}_{b,d,k,j} u_{a,k,c,d}  - \\sum_{k \\in O} \\sum_{c \\in V} \\sum_{d \\in V} t^{1}_{c,j} t^{2}_{b,d,i,k} u_{a,k,c,d}  - \\sum_{k \\in O} \\sum_{c \\in V} \\sum_{d \\in V} t^{1}_{c,k} t^{2}_{a,d,i,j} u_{b,k,c,d}   + \\sum_{k \\in O} \\sum_{c \\in V} \\sum_{d \\in V} t^{1}_{a,k} t^{1}_{c,i} t^{1}_{d,j} u_{b,k,c,d}  - \\sum_{k \\in O} \\sum_{c \\in V} \\sum_{d \\in V}  \\frac{1}{2} t^{1}_{b,k} t^{2}_{c,d,i,j} u_{a,k,c,d}  - \\sum_{k \\in O} \\sum_{c \\in V} \\sum_{d \\in V} t^{1}_{b,k} t^{1}_{c,i} t^{1}_{d,j} u_{a,k,c,d}   + \\sum_{k \\in O} \\sum_{l \\in O} \\sum_{c \\in V} \\sum_{d \\in V} t^{2}_{a,c,k,j} t^{2}_{b,d,i,l} u_{k,l,c,d}   + \\sum_{k \\in O} \\sum_{l \\in O} \\sum_{c \\in V} \\sum_{d \\in V} \\frac{1}{4} t^{2}_{a,b,k,l} t^{2}_{c,d,i,j} u_{k,l,c,d}   + \\sum_{k \\in O} \\sum_{l \\in O} \\sum_{c \\in V} \\sum_{d \\in V} \\frac{1}{2} t^{2}_{a,b,l,j} t^{2}_{c,d,i,k} u_{k,l,c,d}  - \\sum_{k \\in O} \\sum_{l \\in O} \\sum_{c \\in V} \\sum_{d \\in V} t^{2}_{a,c,i,k} t^{2}_{b,d,l,j} u_{k,l,c,d}   + \\sum_{k \\in O} \\sum_{l \\in O} \\sum_{c \\in V} \\sum_{d \\in V} \\frac{1}{2} t^{2}_{a,d,i,j} t^{2}_{b,c,k,l} u_{k,l,c,d}   + \\sum_{k \\in O} \\sum_{l \\in O} \\sum_{c \\in V} \\sum_{d \\in V} t^{1}_{a,k} t^{1}_{c,i} t^{2}_{b,d,l,j} u_{k,l,c,d}   + \\sum_{k \\in O} \\sum_{l \\in O} \\sum_{c \\in V} \\sum_{d \\in V} t^{1}_{a,k} t^{1}_{c,j} t^{2}_{b,d,i,l} u_{k,l,c,d}   + \\sum_{k \\in O} \\sum_{l \\in O} \\sum_{c \\in V} \\sum_{d \\in V} t^{1}_{b,k} t^{1}_{c,l} t^{2}_{a,d,i,j} u_{k,l,c,d}   + \\sum_{k \\in O} \\sum_{l \\in O} \\sum_{c \\in V} \\sum_{d \\in V} t^{1}_{c,i} t^{1}_{d,k} t^{2}_{a,b,l,j} u_{k,l,c,d}  - \\sum_{k \\in O} \\sum_{l \\in O} \\sum_{c \\in V} \\sum_{d \\in V}  \\frac{1}{2} t^{2}_{a,b,i,l} t^{2}_{c,d,k,j} u_{k,l,c,d}  - \\sum_{k \\in O} \\sum_{l \\in O} \\sum_{c \\in V} \\sum_{d \\in V}  \\frac{1}{2} t^{2}_{a,c,k,l} t^{2}_{b,d,i,j} u_{k,l,c,d}   + \\sum_{k \\in O} \\sum_{l \\in O} \\sum_{c \\in V} \\sum_{d \\in V} \\frac{1}{2} t^{1}_{a,k} t^{1}_{b,l} t^{2}_{c,d,i,j} u_{k,l,c,d}  - \\sum_{k \\in O} \\sum_{l \\in O} \\sum_{c \\in V} \\sum_{d \\in V} t^{1}_{a,k} t^{1}_{c,l} t^{2}_{b,d,i,j} u_{k,l,c,d}  - \\sum_{k \\in O} \\sum_{l \\in O} \\sum_{c \\in V} \\sum_{d \\in V} t^{1}_{b,k} t^{1}_{c,i} t^{2}_{a,d,l,j} u_{k,l,c,d}  - \\sum_{k \\in O} \\sum_{l \\in O} \\sum_{c \\in V} \\sum_{d \\in V} t^{1}_{b,k} t^{1}_{c,j} t^{2}_{a,d,i,l} u_{k,l,c,d}   + \\sum_{k \\in O} \\sum_{l \\in O} \\sum_{c \\in V} \\sum_{d \\in V} \\frac{1}{2} t^{1}_{c,i} t^{1}_{d,j} t^{2}_{a,b,k,l} u_{k,l,c,d}  - \\sum_{k \\in O} \\sum_{l \\in O} \\sum_{c \\in V} \\sum_{d \\in V} t^{1}_{c,k} t^{1}_{d,j} t^{2}_{a,b,i,l} u_{k,l,c,d}   + \\sum_{k \\in O} \\sum_{l \\in O} \\sum_{c \\in V} \\sum_{d \\in V} t^{1}_{a,k} t^{1}_{b,l} t^{1}_{c,i} t^{1}_{d,j} u_{k,l,c,d} $$"
      ],
      "text/plain": [
       "<IPython.core.display.Math object>"
      ]
     },
     "execution_count": 13,
     "metadata": {},
     "output_type": "execute_result"
    }
   ],
   "source": [
    "t2_eqn = t2_eqn.sort()\n",
    "t2_eqn.display()"
   ]
  }
 ],
 "metadata": {
  "kernelspec": {
   "display_name": "Python 3",
   "language": "python",
   "name": "python3"
  },
  "language_info": {
   "codemirror_mode": {
    "name": "ipython",
    "version": 3
   },
   "file_extension": ".py",
   "mimetype": "text/x-python",
   "name": "python",
   "nbconvert_exporter": "python",
   "pygments_lexer": "ipython3",
   "version": "3.5.3"
  }
 },
 "nbformat": 4,
 "nbformat_minor": 2
}
