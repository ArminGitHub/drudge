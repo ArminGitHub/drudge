{
 "cells": [
  {
   "cell_type": "markdown",
   "metadata": {
    "deletable": true,
    "editable": true
   },
   "source": [
    "# Automatic derivation of CCSD theory\n",
    "\n",
    "This notebook serves as an example of interactive usage of drudge for complex symbolic manipulations in Jupyter notebooks.  Here we can see how the classical CCSD theory can be derived automatically."
   ]
  },
  {
   "cell_type": "markdown",
   "metadata": {
    "deletable": true,
    "editable": true
   },
   "source": [
    "## Preparatory work\n",
    "\n",
    "First, we need to set up the Spark environment.  Here we just use parallelization on the local machine."
   ]
  },
  {
   "cell_type": "code",
   "execution_count": 1,
   "metadata": {
    "collapsed": true,
    "deletable": true,
    "editable": true
   },
   "outputs": [],
   "source": [
    "from pyspark import SparkContext\n",
    "ctx = SparkContext('local[*]', 'ccsd')"
   ]
  },
  {
   "cell_type": "markdown",
   "metadata": {
    "deletable": true,
    "editable": true
   },
   "source": [
    "Or we can also use the dummy spark to emulate the Spark environment in a purely serial way.  Note that we need just **one** Spark context.  These two cells should not be both evaluated."
   ]
  },
  {
   "cell_type": "code",
   "execution_count": null,
   "metadata": {
    "collapsed": true,
    "deletable": true,
    "editable": true
   },
   "outputs": [],
   "source": [
    "from dummy_spark import SparkContext\n",
    "ctx = SparkContext()"
   ]
  },
  {
   "cell_type": "markdown",
   "metadata": {
    "deletable": true,
    "editable": true
   },
   "source": [
    "With the Spark context, we can construct the drudge specific for this problem.  Then we can define some names that is going to be used frequently."
   ]
  },
  {
   "cell_type": "code",
   "execution_count": 2,
   "metadata": {
    "collapsed": false,
    "deletable": true,
    "editable": true
   },
   "outputs": [],
   "source": [
    "from sympy import *\n",
    "from drudge import *\n",
    "\n",
    "dr = PartHoleDrudge(ctx)\n",
    "p = dr.names\n",
    "\n",
    "c_ = p.c_\n",
    "c_dag = p.c_dag\n",
    "a, b = p.V_dumms[:2]\n",
    "i, j = p.O_dumms[:2]"
   ]
  },
  {
   "cell_type": "markdown",
   "metadata": {
    "deletable": true,
    "editable": true
   },
   "source": [
    "## Cluster excitation operator\n",
    "\n",
    "Here, we by using the Einstein summation convention tensor creator, we can just define the cluster operator in a way very similar to how we would writen them down on paper."
   ]
  },
  {
   "cell_type": "code",
   "execution_count": 3,
   "metadata": {
    "collapsed": false,
    "deletable": true,
    "editable": true
   },
   "outputs": [],
   "source": [
    "t = IndexedBase('t')\n",
    "\n",
    "clusters = dr.einst(\n",
    "    t[a, i] * c_dag[a] * c_[i] +\n",
    "    Rational(1, 4) * t[a, b, i, j] * c_dag[a] * c_dag[b] * c_[j] * c_[i]\n",
    ")"
   ]
  },
  {
   "cell_type": "markdown",
   "metadata": {
    "deletable": true,
    "editable": true
   },
   "source": [
    "We can have a peek at the cluster operator."
   ]
  },
  {
   "cell_type": "code",
   "execution_count": 4,
   "metadata": {
    "collapsed": false,
    "deletable": true,
    "editable": true
   },
   "outputs": [
    {
     "data": {
      "text/latex": [
       "$$\\sum_{i \\in O} \\sum_{a \\in V} t_{a,i} c^{\\dagger}_{a} c^{}_{i}  + \\sum_{i \\in O} \\sum_{j \\in O} \\sum_{a \\in V} \\sum_{b \\in V} \\frac{1}{4} t_{a,b,i,j} c^{\\dagger}_{a} c^{\\dagger}_{b} c^{}_{j} c^{}_{i}$$"
      ],
      "text/plain": [
       "<IPython.core.display.Math object>"
      ]
     },
     "execution_count": 4,
     "metadata": {},
     "output_type": "execute_result"
    }
   ],
   "source": [
    "clusters.display()"
   ]
  },
  {
   "cell_type": "markdown",
   "metadata": {
    "deletable": true,
    "editable": true
   },
   "source": [
    "Now we need tell the system about the symmetry on $t^2$, so that it can be used in simplification."
   ]
  },
  {
   "cell_type": "code",
   "execution_count": 5,
   "metadata": {
    "collapsed": false,
    "deletable": true,
    "editable": true
   },
   "outputs": [],
   "source": [
    "dr.set_dbbar_base(t, 2)"
   ]
  },
  {
   "cell_type": "markdown",
   "metadata": {
    "collapsed": true,
    "deletable": true,
    "editable": true
   },
   "source": [
    "## Similarity transform of the Hamiltonian\n",
    "\n",
    "Here we can use a loop to nest the commutation conveniently.  And IPython magic can be used to time the operation.  Note that after the simplification, we explicitly redistribute the terms in the transformed Hamiltonian for better parallel performance in later operations.  Note that `drudge` does not automatically cache the result of tensor computations.  The `cache` method should be called explicitly when a tensor is going to be used multiple times."
   ]
  },
  {
   "cell_type": "code",
   "execution_count": 6,
   "metadata": {
    "collapsed": false,
    "deletable": true,
    "editable": true
   },
   "outputs": [
    {
     "name": "stdout",
     "output_type": "stream",
     "text": [
      "CPU times: user 314 ms, sys: 42.8 ms, total: 357 ms\n",
      "Wall time: 45.1 s\n"
     ]
    }
   ],
   "source": [
    "%%time\n",
    "\n",
    "curr = dr.ham\n",
    "h_bar = dr.ham\n",
    "for order in range(0, 4):\n",
    "    curr = (curr | clusters).simplify() * Rational(1, order + 1)\n",
    "    curr.cache()\n",
    "    h_bar += curr\n",
    "h_bar.repartition(cache=True)"
   ]
  },
  {
   "cell_type": "markdown",
   "metadata": {
    "collapsed": true,
    "deletable": true,
    "editable": true
   },
   "source": [
    "The transformed Hamiltonian can be very complex.  Instead of reading its terms, we can just have a peek by get a count of the number of terms it contains."
   ]
  },
  {
   "cell_type": "code",
   "execution_count": 7,
   "metadata": {
    "collapsed": false,
    "deletable": true,
    "editable": true
   },
   "outputs": [
    {
     "data": {
      "text/plain": [
       "254"
      ]
     },
     "execution_count": 7,
     "metadata": {},
     "output_type": "execute_result"
    }
   ],
   "source": [
    "h_bar.n_terms"
   ]
  },
  {
   "cell_type": "markdown",
   "metadata": {
    "deletable": true,
    "editable": true
   },
   "source": [
    "## Working equation derivation\n",
    "\n",
    "With the similarity transformed Hamiltonian, we are now ready to derive the actual working equations.  First, the energy equation can be derived by taking the vacuum expectation value of the transformed Hamiltonian."
   ]
  },
  {
   "cell_type": "code",
   "execution_count": 8,
   "metadata": {
    "collapsed": true,
    "deletable": true,
    "editable": true
   },
   "outputs": [],
   "source": [
    "en_eqn = h_bar.eval_fermi_vev().simplify()"
   ]
  },
  {
   "cell_type": "markdown",
   "metadata": {
    "deletable": true,
    "editable": true
   },
   "source": [
    "We can have a look at its contents to see if it is what we would expect."
   ]
  },
  {
   "cell_type": "code",
   "execution_count": 9,
   "metadata": {
    "collapsed": false,
    "deletable": true,
    "editable": true
   },
   "outputs": [
    {
     "data": {
      "text/latex": [
       "$$\\sum_{i \\in O} \\sum_{j \\in O} \\sum_{a \\in V} \\sum_{b \\in V} \\frac{1}{4} t_{a,b,i,j} u_{i,j,a,b}   + \\sum_{i \\in O} \\sum_{j \\in O} \\sum_{a \\in V} \\sum_{b \\in V} \\frac{1}{2} t_{a,i} t_{b,j} u_{i,j,a,b}   + \\sum_{i \\in O} \\sum_{a \\in V} f_{i,a} t_{a,i} $$"
      ],
      "text/plain": [
       "<IPython.core.display.Math object>"
      ]
     },
     "execution_count": 9,
     "metadata": {},
     "output_type": "execute_result"
    }
   ],
   "source": [
    "en_eqn.display()"
   ]
  },
  {
   "cell_type": "markdown",
   "metadata": {
    "deletable": true,
    "editable": true
   },
   "source": [
    "Next, we can create a projector to derive the working equation for the singles amplitude.\n"
   ]
  },
  {
   "cell_type": "code",
   "execution_count": 10,
   "metadata": {
    "collapsed": true,
    "deletable": true,
    "editable": true
   },
   "outputs": [],
   "source": [
    "proj = c_dag[i] * c_[a]\n",
    "t1_eqn = (proj * h_bar).eval_fermi_vev().simplify()"
   ]
  },
  {
   "cell_type": "markdown",
   "metadata": {
    "deletable": true,
    "editable": true
   },
   "source": [
    "In the same way, we can display its content."
   ]
  },
  {
   "cell_type": "code",
   "execution_count": 11,
   "metadata": {
    "collapsed": false,
    "deletable": true,
    "editable": true
   },
   "outputs": [
    {
     "data": {
      "text/latex": [
       "$$- \\sum_{j \\in O} f_{j,i} t_{a,j}   + \\sum_{j \\in O} \\sum_{b \\in V} \\sum_{c \\in V} \\frac{1}{2} t_{b,c,i,j} u_{a,j,b,c}   + \\sum_{j \\in O} \\sum_{b \\in V} \\sum_{c \\in V} t_{b,i} t_{c,j} u_{a,j,b,c}   + \\sum_{j \\in O} \\sum_{b \\in V} f_{j,b} t_{a,b,i,j}   + \\sum_{j \\in O} \\sum_{b \\in V} t_{b,j} u_{a,j,i,b}  - \\sum_{j \\in O} \\sum_{b \\in V} f_{j,b} t_{a,j} t_{b,i}   + \\sum_{j \\in O} \\sum_{k \\in O} \\sum_{b \\in V} \\sum_{c \\in V} t_{c,k} t_{a,b,i,j} u_{j,k,b,c}   + \\sum_{j \\in O} \\sum_{k \\in O} \\sum_{b \\in V} \\sum_{c \\in V} \\frac{1}{2} t_{a,k} t_{b,c,i,j} u_{j,k,b,c}   + \\sum_{j \\in O} \\sum_{k \\in O} \\sum_{b \\in V} \\sum_{c \\in V} \\frac{1}{2} t_{c,i} t_{a,b,j,k} u_{j,k,b,c}  - \\sum_{j \\in O} \\sum_{k \\in O} \\sum_{b \\in V} \\sum_{c \\in V} t_{a,j} t_{b,i} t_{c,k} u_{j,k,b,c}   + f_{a,i}   + \\sum_{b \\in V} f_{a,b} t_{b,i}  - \\sum_{j \\in O} \\sum_{k \\in O} \\sum_{b \\in V}  \\frac{1}{2} t_{a,b,j,k} u_{j,k,i,b}  - \\sum_{j \\in O} \\sum_{k \\in O} \\sum_{b \\in V} t_{a,j} t_{b,k} u_{j,k,i,b} $$"
      ],
      "text/plain": [
       "<IPython.core.display.Math object>"
      ]
     },
     "execution_count": 11,
     "metadata": {},
     "output_type": "execute_result"
    }
   ],
   "source": [
    "t1_eqn.display()"
   ]
  },
  {
   "cell_type": "markdown",
   "metadata": {
    "deletable": true,
    "editable": true
   },
   "source": [
    "The working equation for the doubles amplitude can be done in the same way, just it can be slower."
   ]
  },
  {
   "cell_type": "code",
   "execution_count": 12,
   "metadata": {
    "collapsed": false,
    "deletable": true,
    "editable": true
   },
   "outputs": [
    {
     "name": "stdout",
     "output_type": "stream",
     "text": [
      "CPU times: user 64.7 ms, sys: 8.81 ms, total: 73.5 ms\n",
      "Wall time: 10.5 s\n"
     ]
    }
   ],
   "source": [
    "%%time\n",
    "\n",
    "proj = c_dag[i] * c_dag[j] * c_[b] * c_[a]\n",
    "t2_eqn = (proj * h_bar).eval_fermi_vev().simplify()"
   ]
  },
  {
   "cell_type": "markdown",
   "metadata": {
    "deletable": true,
    "editable": true
   },
   "source": [
    "Since the equation can be slightly complex, we can vaguely sort the terms in increasing complexity before display them."
   ]
  },
  {
   "cell_type": "code",
   "execution_count": 13,
   "metadata": {
    "collapsed": false,
    "deletable": true,
    "editable": true
   },
   "outputs": [
    {
     "data": {
      "text/latex": [
       "$$u_{a,b,i,j}   + \\sum_{k \\in O} t_{a,k} u_{b,k,i,j}  - \\sum_{k \\in O} f_{k,i} t_{a,b,k,j}  - \\sum_{k \\in O} f_{k,j} t_{a,b,i,k}  - \\sum_{k \\in O} t_{b,k} u_{a,k,i,j}   + \\sum_{c \\in V} f_{b,c} t_{a,c,i,j}   + \\sum_{c \\in V} t_{c,i} u_{a,b,c,j}   + \\sum_{c \\in V} t_{c,j} u_{a,b,i,c}  - \\sum_{c \\in V} f_{a,c} t_{b,c,i,j}   + \\sum_{k \\in O} \\sum_{l \\in O} \\frac{1}{2} t_{a,b,k,l} u_{k,l,i,j}   + \\sum_{k \\in O} \\sum_{l \\in O} t_{a,k} t_{b,l} u_{k,l,i,j}   + \\sum_{k \\in O} \\sum_{c \\in V} t_{a,c,k,j} u_{b,k,i,c}   + \\sum_{k \\in O} \\sum_{c \\in V} t_{b,c,i,k} u_{a,k,c,j}  - \\sum_{k \\in O} \\sum_{c \\in V} t_{a,c,i,k} u_{b,k,c,j}  - \\sum_{k \\in O} \\sum_{c \\in V} t_{b,c,k,j} u_{a,k,i,c}   + \\sum_{k \\in O} \\sum_{c \\in V} f_{k,c} t_{a,k} t_{b,c,i,j}   + \\sum_{k \\in O} \\sum_{c \\in V} t_{a,k} t_{c,i} u_{b,k,c,j}   + \\sum_{k \\in O} \\sum_{c \\in V} t_{a,k} t_{c,j} u_{b,k,i,c}  - \\sum_{k \\in O} \\sum_{c \\in V} f_{k,c} t_{b,k} t_{a,c,i,j}  - \\sum_{k \\in O} \\sum_{c \\in V} f_{k,c} t_{c,i} t_{a,b,k,j}  - \\sum_{k \\in O} \\sum_{c \\in V} f_{k,c} t_{c,j} t_{a,b,i,k}  - \\sum_{k \\in O} \\sum_{c \\in V} t_{b,k} t_{c,i} u_{a,k,c,j}  - \\sum_{k \\in O} \\sum_{c \\in V} t_{b,k} t_{c,j} u_{a,k,i,c}   + \\sum_{c \\in V} \\sum_{d \\in V} \\frac{1}{2} t_{c,d,i,j} u_{a,b,c,d}   + \\sum_{c \\in V} \\sum_{d \\in V} t_{c,i} t_{d,j} u_{a,b,c,d}   + \\sum_{k \\in O} \\sum_{l \\in O} \\sum_{c \\in V} t_{a,l} t_{b,c,i,k} u_{k,l,c,j}   + \\sum_{k \\in O} \\sum_{l \\in O} \\sum_{c \\in V} t_{b,l} t_{a,c,k,j} u_{k,l,i,c}   + \\sum_{k \\in O} \\sum_{l \\in O} \\sum_{c \\in V} t_{c,l} t_{a,b,i,k} u_{k,l,c,j}  - \\sum_{k \\in O} \\sum_{l \\in O} \\sum_{c \\in V} t_{a,l} t_{b,c,k,j} u_{k,l,i,c}  - \\sum_{k \\in O} \\sum_{l \\in O} \\sum_{c \\in V} t_{b,l} t_{a,c,i,k} u_{k,l,c,j}   + \\sum_{k \\in O} \\sum_{l \\in O} \\sum_{c \\in V} \\frac{1}{2} t_{c,i} t_{a,b,k,l} u_{k,l,c,j}   + \\sum_{k \\in O} \\sum_{l \\in O} \\sum_{c \\in V} \\frac{1}{2} t_{c,j} t_{a,b,k,l} u_{k,l,i,c}  - \\sum_{k \\in O} \\sum_{l \\in O} \\sum_{c \\in V} t_{c,l} t_{a,b,k,j} u_{k,l,i,c}   + \\sum_{k \\in O} \\sum_{l \\in O} \\sum_{c \\in V} t_{a,k} t_{b,l} t_{c,i} u_{k,l,c,j}   + \\sum_{k \\in O} \\sum_{l \\in O} \\sum_{c \\in V} t_{a,k} t_{b,l} t_{c,j} u_{k,l,i,c}   + \\sum_{k \\in O} \\sum_{c \\in V} \\sum_{d \\in V} t_{d,i} t_{b,c,k,j} u_{a,k,c,d}   + \\sum_{k \\in O} \\sum_{c \\in V} \\sum_{d \\in V} t_{d,j} t_{b,c,i,k} u_{a,k,c,d}   + \\sum_{k \\in O} \\sum_{c \\in V} \\sum_{d \\in V} t_{d,k} t_{a,c,i,j} u_{b,k,c,d}   + \\sum_{k \\in O} \\sum_{c \\in V} \\sum_{d \\in V} \\frac{1}{2} t_{a,k} t_{c,d,i,j} u_{b,k,c,d}  - \\sum_{k \\in O} \\sum_{c \\in V} \\sum_{d \\in V} t_{d,i} t_{a,c,k,j} u_{b,k,c,d}  - \\sum_{k \\in O} \\sum_{c \\in V} \\sum_{d \\in V} t_{d,j} t_{a,c,i,k} u_{b,k,c,d}  - \\sum_{k \\in O} \\sum_{c \\in V} \\sum_{d \\in V} t_{d,k} t_{b,c,i,j} u_{a,k,c,d}   + \\sum_{k \\in O} \\sum_{c \\in V} \\sum_{d \\in V} t_{a,k} t_{c,i} t_{d,j} u_{b,k,c,d}  - \\sum_{k \\in O} \\sum_{c \\in V} \\sum_{d \\in V}  \\frac{1}{2} t_{b,k} t_{c,d,i,j} u_{a,k,c,d}  - \\sum_{k \\in O} \\sum_{c \\in V} \\sum_{d \\in V} t_{b,k} t_{c,i} t_{d,j} u_{a,k,c,d}   + \\sum_{k \\in O} \\sum_{l \\in O} \\sum_{c \\in V} \\sum_{d \\in V} t_{a,c,k,j} t_{b,d,i,l} u_{k,l,c,d}   + \\sum_{k \\in O} \\sum_{l \\in O} \\sum_{c \\in V} \\sum_{d \\in V} \\frac{1}{4} t_{a,b,k,l} t_{c,d,i,j} u_{k,l,c,d}   + \\sum_{k \\in O} \\sum_{l \\in O} \\sum_{c \\in V} \\sum_{d \\in V} \\frac{1}{2} t_{a,b,l,j} t_{c,d,i,k} u_{k,l,c,d}  - \\sum_{k \\in O} \\sum_{l \\in O} \\sum_{c \\in V} \\sum_{d \\in V} t_{a,c,i,k} t_{b,d,l,j} u_{k,l,c,d}   + \\sum_{k \\in O} \\sum_{l \\in O} \\sum_{c \\in V} \\sum_{d \\in V} \\frac{1}{2} t_{a,d,i,j} t_{b,c,k,l} u_{k,l,c,d}   + \\sum_{k \\in O} \\sum_{l \\in O} \\sum_{c \\in V} \\sum_{d \\in V} t_{a,k} t_{d,l} t_{b,c,i,j} u_{k,l,c,d}   + \\sum_{k \\in O} \\sum_{l \\in O} \\sum_{c \\in V} \\sum_{d \\in V} t_{a,l} t_{d,i} t_{b,c,k,j} u_{k,l,c,d}   + \\sum_{k \\in O} \\sum_{l \\in O} \\sum_{c \\in V} \\sum_{d \\in V} t_{a,l} t_{d,j} t_{b,c,i,k} u_{k,l,c,d}   + \\sum_{k \\in O} \\sum_{l \\in O} \\sum_{c \\in V} \\sum_{d \\in V} t_{c,l} t_{d,j} t_{a,b,i,k} u_{k,l,c,d}  - \\sum_{k \\in O} \\sum_{l \\in O} \\sum_{c \\in V} \\sum_{d \\in V}  \\frac{1}{2} t_{a,b,i,l} t_{c,d,k,j} u_{k,l,c,d}  - \\sum_{k \\in O} \\sum_{l \\in O} \\sum_{c \\in V} \\sum_{d \\in V}  \\frac{1}{2} t_{a,c,k,l} t_{b,d,i,j} u_{k,l,c,d}   + \\sum_{k \\in O} \\sum_{l \\in O} \\sum_{c \\in V} \\sum_{d \\in V} \\frac{1}{2} t_{a,k} t_{b,l} t_{c,d,i,j} u_{k,l,c,d}  - \\sum_{k \\in O} \\sum_{l \\in O} \\sum_{c \\in V} \\sum_{d \\in V} t_{b,k} t_{d,l} t_{a,c,i,j} u_{k,l,c,d}  - \\sum_{k \\in O} \\sum_{l \\in O} \\sum_{c \\in V} \\sum_{d \\in V} t_{b,l} t_{d,i} t_{a,c,k,j} u_{k,l,c,d}  - \\sum_{k \\in O} \\sum_{l \\in O} \\sum_{c \\in V} \\sum_{d \\in V} t_{b,l} t_{d,j} t_{a,c,i,k} u_{k,l,c,d}   + \\sum_{k \\in O} \\sum_{l \\in O} \\sum_{c \\in V} \\sum_{d \\in V} \\frac{1}{2} t_{c,i} t_{d,j} t_{a,b,k,l} u_{k,l,c,d}  - \\sum_{k \\in O} \\sum_{l \\in O} \\sum_{c \\in V} \\sum_{d \\in V} t_{c,i} t_{d,l} t_{a,b,k,j} u_{k,l,c,d}   + \\sum_{k \\in O} \\sum_{l \\in O} \\sum_{c \\in V} \\sum_{d \\in V} t_{a,k} t_{b,l} t_{c,i} t_{d,j} u_{k,l,c,d} $$"
      ],
      "text/plain": [
       "<IPython.core.display.Math object>"
      ]
     },
     "execution_count": 13,
     "metadata": {},
     "output_type": "execute_result"
    }
   ],
   "source": [
    "t2_eqn = t2_eqn.sort()\n",
    "t2_eqn.display()"
   ]
  },
  {
   "cell_type": "markdown",
   "metadata": {
    "deletable": true,
    "editable": true
   },
   "source": [
    "## Working equation optimization\n",
    "\n",
    "Evaluating the working equation takes a lot of effort.  Outside ``drudge``, a sister package named ``gristmill`` is available for the optimization and automatic code generation for tensor contractions.  To start with, we need to put the working equations into a tensor definitions with external indices and import the ``gristmill`` package."
   ]
  },
  {
   "cell_type": "code",
   "execution_count": 14,
   "metadata": {
    "collapsed": false,
    "deletable": true,
    "editable": true
   },
   "outputs": [],
   "source": [
    "from gristmill import *\n",
    "\n",
    "working_eqn = [\n",
    "    dr.define(Symbol('e'), en_eqn), \n",
    "    dr.define(t[a, i], t1_eqn), \n",
    "    dr.define(t[a, b, i, j], t2_eqn)\n",
    "]"
   ]
  },
  {
   "cell_type": "markdown",
   "metadata": {
    "deletable": true,
    "editable": true
   },
   "source": [
    "We can have an estimation of the FLOP cost without any optimization."
   ]
  },
  {
   "cell_type": "code",
   "execution_count": 15,
   "metadata": {
    "collapsed": false,
    "deletable": true,
    "editable": true
   },
   "outputs": [
    {
     "data": {
      "image/png": "[encoded data removed]",
      "text/latex": [
       "$$73 no^{4} nv^{4}$$"
      ],
      "text/plain": [
       "     4   4\n",
       "73⋅no ⋅nv "
      ]
     },
     "execution_count": 15,
     "metadata": {},
     "output_type": "execute_result"
    }
   ],
   "source": [
    "orig_cost = get_flop_cost(working_eqn, leading=True)\n",
    "init_printing()\n",
    "orig_cost"
   ]
  },
  {
   "cell_type": "markdown",
   "metadata": {
    "deletable": true,
    "editable": true
   },
   "source": [
    "Since normally we have far more virtual orbitals than occupied orbitals, we have make the optimization based on this."
   ]
  },
  {
   "cell_type": "code",
   "execution_count": 16,
   "metadata": {
    "collapsed": false,
    "deletable": true,
    "editable": true
   },
   "outputs": [
    {
     "name": "stdout",
     "output_type": "stream",
     "text": [
      "CPU times: user 3.8 s, sys: 122 ms, total: 3.92 s\n",
      "Wall time: 14.8 s\n"
     ]
    }
   ],
   "source": [
    "%%time\n",
    "\n",
    "eval_seq = optimize(working_eqn, substs={p.nv: p.no * 10})"
   ]
  },
  {
   "cell_type": "markdown",
   "metadata": {
    "deletable": true,
    "editable": true
   },
   "source": [
    "Now we can have some inspection of the evaluation sequence."
   ]
  },
  {
   "cell_type": "code",
   "execution_count": 17,
   "metadata": {
    "collapsed": false,
    "deletable": true,
    "editable": true
   },
   "outputs": [
    {
     "data": {
      "image/png": "[encoded data removed]",
      "text/latex": [
       "$$49$$"
      ],
      "text/plain": [
       "49"
      ]
     },
     "execution_count": 17,
     "metadata": {},
     "output_type": "execute_result"
    }
   ],
   "source": [
    "len(eval_seq)"
   ]
  },
  {
   "cell_type": "code",
   "execution_count": 18,
   "metadata": {
    "collapsed": false,
    "deletable": true,
    "editable": true
   },
   "outputs": [
    {
     "data": {
      "image/png": "[encoded data removed]",
      "text/latex": [
       "$$9 no^{4} nv^{2} + 8 no^{3} nv^{3} + 3 no^{2} nv^{4}$$"
      ],
      "text/plain": [
       "    4   2       3   3       2   4\n",
       "9⋅no ⋅nv  + 8⋅no ⋅nv  + 3⋅no ⋅nv "
      ]
     },
     "execution_count": 18,
     "metadata": {},
     "output_type": "execute_result"
    }
   ],
   "source": [
    "opt_cost = get_flop_cost(eval_seq, leading=True)\n",
    "opt_cost"
   ]
  },
  {
   "cell_type": "markdown",
   "metadata": {
    "deletable": true,
    "editable": true
   },
   "source": [
    "Significant optimization can be seen.  Finally we can verify the correctness of the evaluation sequence.  This step can be very slow.  But it is adviced for mission-critical tasks."
   ]
  },
  {
   "cell_type": "code",
   "execution_count": null,
   "metadata": {
    "collapsed": false,
    "deletable": true,
    "editable": true
   },
   "outputs": [],
   "source": [
    "verify_eval_seq(eval_seq, working_eqn, simplify=True)"
   ]
  },
  {
   "cell_type": "markdown",
   "metadata": {
    "collapsed": true,
    "deletable": true,
    "editable": true
   },
   "source": [
    "Finally, we have have a peek at the details of the intermediates."
   ]
  },
  {
   "cell_type": "code",
   "execution_count": 19,
   "metadata": {
    "collapsed": false,
    "deletable": true,
    "editable": true
   },
   "outputs": [
    {
     "data": {
      "text/latex": [
       "$$\\tau^{0}_{i,a} = \\sum_{j \\in O} \\sum_{b \\in V} t_{b,j} u_{j,i,b,a} $$"
      ],
      "text/plain": [
       "<IPython.core.display.Math object>"
      ]
     },
     "metadata": {},
     "output_type": "display_data"
    },
    {
     "data": {
      "text/latex": [
       "$$\\tau^{1}_{i,a} = 2 f_{i,a}   + \\tau^{0}_{i,a} $$"
      ],
      "text/plain": [
       "<IPython.core.display.Math object>"
      ]
     },
     "metadata": {},
     "output_type": "display_data"
    },
    {
     "data": {
      "text/latex": [
       "$$\\tau^{2}_{i,a} = f_{i,a}   + \\tau^{0}_{i,a} $$"
      ],
      "text/plain": [
       "<IPython.core.display.Math object>"
      ]
     },
     "metadata": {},
     "output_type": "display_data"
    },
    {
     "data": {
      "text/latex": [
       "$$\\tau^{3}_{i,j} = - \\sum_{k \\in O} \\sum_{a \\in V} t_{a,k} u_{k,i,j,a} $$"
      ],
      "text/plain": [
       "<IPython.core.display.Math object>"
      ]
     },
     "metadata": {},
     "output_type": "display_data"
    },
    {
     "data": {
      "text/latex": [
       "$$\\tau^{4}_{i,j} = \\sum_{k \\in O} \\sum_{a \\in V} \\sum_{b \\in V} t_{b,a,k,i} u_{k,j,b,a} $$"
      ],
      "text/plain": [
       "<IPython.core.display.Math object>"
      ]
     },
     "metadata": {},
     "output_type": "display_data"
    },
    {
     "data": {
      "text/latex": [
       "$$\\tau^{5}_{i,j} = \\sum_{a \\in V} 2 t_{a,j} \\tau^{2}_{i,a}   + 2 f_{i,j}   + 2 \\tau^{3}_{i,j}   + \\tau^{4}_{j,i} $$"
      ],
      "text/plain": [
       "<IPython.core.display.Math object>"
      ]
     },
     "metadata": {},
     "output_type": "display_data"
    },
    {
     "data": {
      "text/latex": [
       "$$\\tau^{6}_{i,j,k,a} = \\sum_{b \\in V} t_{b,i} u_{k,j,b,a} $$"
      ],
      "text/plain": [
       "<IPython.core.display.Math object>"
      ]
     },
     "metadata": {},
     "output_type": "display_data"
    },
    {
     "data": {
      "text/latex": [
       "$$\\tau^{7}_{i,j,k,a} = - u_{k,j,i,a}   + \\tau^{6}_{i,k,j,a} $$"
      ],
      "text/plain": [
       "<IPython.core.display.Math object>"
      ]
     },
     "metadata": {},
     "output_type": "display_data"
    },
    {
     "data": {
      "text/latex": [
       "$$\\tau^{8}_{a,b} = - \\sum_{i \\in O} \\sum_{c \\in V} t_{c,i} u_{i,a,c,b} $$"
      ],
      "text/plain": [
       "<IPython.core.display.Math object>"
      ]
     },
     "metadata": {},
     "output_type": "display_data"
    },
    {
     "data": {
      "text/latex": [
       "$$\\tau^{9}_{a,b} = - \\tau^{8}_{a,b}   + f_{a,b} $$"
      ],
      "text/plain": [
       "<IPython.core.display.Math object>"
      ]
     },
     "metadata": {},
     "output_type": "display_data"
    },
    {
     "data": {
      "text/latex": [
       "$$\\tau^{10}_{i,j,k,l} = \\sum_{a \\in V} \\sum_{b \\in V} t_{b,a,j,i} u_{l,k,b,a} $$"
      ],
      "text/plain": [
       "<IPython.core.display.Math object>"
      ]
     },
     "metadata": {},
     "output_type": "display_data"
    },
    {
     "data": {
      "text/latex": [
       "$$\\tau^{11}_{i,j,k,l} = - \\sum_{a \\in V} t_{a,i} \\tau^{6}_{j,l,k,a} $$"
      ],
      "text/plain": [
       "<IPython.core.display.Math object>"
      ]
     },
     "metadata": {},
     "output_type": "display_data"
    },
    {
     "data": {
      "text/latex": [
       "$$\\tau^{12}_{i,j,k,l} = \\tau^{10}_{l,k,j,i}   + 2 u_{j,i,l,k}   + 2 \\tau^{11}_{l,k,j,i} $$"
      ],
      "text/plain": [
       "<IPython.core.display.Math object>"
      ]
     },
     "metadata": {},
     "output_type": "display_data"
    },
    {
     "data": {
      "text/latex": [
       "$$\\tau^{13}_{i,a,b,c} = \\sum_{d \\in V} t_{d,i} u_{b,a,d,c} $$"
      ],
      "text/plain": [
       "<IPython.core.display.Math object>"
      ]
     },
     "metadata": {},
     "output_type": "display_data"
    },
    {
     "data": {
      "text/latex": [
       "$$\\tau^{14}_{i,j,k,a} = \\sum_{l \\in O} t_{a,l} \\tau^{12}_{l,i,k,j} $$"
      ],
      "text/plain": [
       "<IPython.core.display.Math object>"
      ]
     },
     "metadata": {},
     "output_type": "display_data"
    },
    {
     "data": {
      "text/latex": [
       "$$\\tau^{15}_{i,j} = \\sum_{a \\in V} 2 t_{a,j} \\tau^{2}_{i,a} $$"
      ],
      "text/plain": [
       "<IPython.core.display.Math object>"
      ]
     },
     "metadata": {},
     "output_type": "display_data"
    },
    {
     "data": {
      "text/latex": [
       "$$\\tau^{16}_{i,j} = \\tau^{4}_{j,i}   + \\tau^{15}_{i,j}   + 2 \\tau^{3}_{i,j} $$"
      ],
      "text/plain": [
       "<IPython.core.display.Math object>"
      ]
     },
     "metadata": {},
     "output_type": "display_data"
    },
    {
     "data": {
      "text/latex": [
       "$$\\tau^{17}_{i,j,a,b} = - \\sum_{k \\in O} \\tau^{16}_{k,j} t_{a,b,k,i} $$"
      ],
      "text/plain": [
       "<IPython.core.display.Math object>"
      ]
     },
     "metadata": {},
     "output_type": "display_data"
    },
    {
     "data": {
      "text/latex": [
       "$$\\tau^{18}_{i,j,k,l} = - \\sum_{a \\in V} t_{a,i} u_{k,j,l,a} $$"
      ],
      "text/plain": [
       "<IPython.core.display.Math object>"
      ]
     },
     "metadata": {},
     "output_type": "display_data"
    },
    {
     "data": {
      "text/latex": [
       "$$\\tau^{19}_{i,j,a,b} = - \\sum_{k \\in O} \\sum_{l \\in O} t_{b,a,l,k} \\tau^{18}_{i,l,k,j} $$"
      ],
      "text/plain": [
       "<IPython.core.display.Math object>"
      ]
     },
     "metadata": {},
     "output_type": "display_data"
    },
    {
     "data": {
      "text/latex": [
       "$$\\tau^{20}_{i,j,a,b} = \\sum_{k \\in O} f_{k,i} t_{b,a,k,j} $$"
      ],
      "text/plain": [
       "<IPython.core.display.Math object>"
      ]
     },
     "metadata": {},
     "output_type": "display_data"
    },
    {
     "data": {
      "text/latex": [
       "$$\\tau^{21}_{i,j,a,b} = - \\sum_{c \\in V} t_{c,i} u_{b,a,j,c} $$"
      ],
      "text/plain": [
       "<IPython.core.display.Math object>"
      ]
     },
     "metadata": {},
     "output_type": "display_data"
    },
    {
     "data": {
      "text/latex": [
       "$$\\tau^{22}_{i,j,k,a} = - \\sum_{l \\in O} t_{a,l} \\tau^{18}_{i,l,j,k} $$"
      ],
      "text/plain": [
       "<IPython.core.display.Math object>"
      ]
     },
     "metadata": {},
     "output_type": "display_data"
    },
    {
     "data": {
      "text/latex": [
       "$$\\tau^{23}_{i,j,a,b} = \\sum_{k \\in O} t_{a,k} \\tau^{22}_{i,k,j,b} $$"
      ],
      "text/plain": [
       "<IPython.core.display.Math object>"
      ]
     },
     "metadata": {},
     "output_type": "display_data"
    },
    {
     "data": {
      "text/latex": [
       "$$\\tau^{24}_{i,j,a,b} = \\tau^{17}_{i,j,a,b}  - \\tau^{19}_{i,j,b,a}   + 2 \\tau^{20}_{i,j,b,a}  - 2 \\tau^{21}_{i,j,b,a}  - 2 \\tau^{23}_{i,j,b,a} $$"
      ],
      "text/plain": [
       "<IPython.core.display.Math object>"
      ]
     },
     "metadata": {},
     "output_type": "display_data"
    },
    {
     "data": {
      "text/latex": [
       "$$\\tau^{25}_{i,j,k,a} = \\sum_{b \\in V} t_{b,i} u_{j,a,k,b} $$"
      ],
      "text/plain": [
       "<IPython.core.display.Math object>"
      ]
     },
     "metadata": {},
     "output_type": "display_data"
    },
    {
     "data": {
      "text/latex": [
       "$$\\tau^{26}_{i,j,a,b} = \\sum_{k \\in O} t_{a,k} \\tau^{25}_{i,k,j,b} $$"
      ],
      "text/plain": [
       "<IPython.core.display.Math object>"
      ]
     },
     "metadata": {},
     "output_type": "display_data"
    },
    {
     "data": {
      "text/latex": [
       "$$\\tau^{27}_{i,j,k,a} = \\sum_{l \\in O} \\sum_{b \\in V} t_{b,a,l,i} \\tau^{7}_{k,l,j,b} $$"
      ],
      "text/plain": [
       "<IPython.core.display.Math object>"
      ]
     },
     "metadata": {},
     "output_type": "display_data"
    },
    {
     "data": {
      "text/latex": [
       "$$\\tau^{28}_{i,j,a,b} = \\sum_{k \\in O} t_{b,k} \\tau^{27}_{i,k,j,a} $$"
      ],
      "text/plain": [
       "<IPython.core.display.Math object>"
      ]
     },
     "metadata": {},
     "output_type": "display_data"
    },
    {
     "data": {
      "text/latex": [
       "$$\\tau^{29}_{i,j,a,b} = - \\sum_{c \\in V} t_{c,i} u_{j,a,c,b} $$"
      ],
      "text/plain": [
       "<IPython.core.display.Math object>"
      ]
     },
     "metadata": {},
     "output_type": "display_data"
    },
    {
     "data": {
      "text/latex": [
       "$$\\tau^{30}_{i,j,a,b} = \\tau^{29}_{i,j,a,b}  - u_{j,a,i,b} $$"
      ],
      "text/plain": [
       "<IPython.core.display.Math object>"
      ]
     },
     "metadata": {},
     "output_type": "display_data"
    },
    {
     "data": {
      "text/latex": [
       "$$\\tau^{31}_{i,j,a,b} = \\sum_{k \\in O} \\sum_{c \\in V} t_{c,a,k,i} \\tau^{30}_{j,k,b,c} $$"
      ],
      "text/plain": [
       "<IPython.core.display.Math object>"
      ]
     },
     "metadata": {},
     "output_type": "display_data"
    },
    {
     "data": {
      "text/latex": [
       "$$\\tau^{32}_{i,j,a,b} = \\tau^{26}_{i,j,a,b}   + \\tau^{28}_{i,j,a,b}   + \\tau^{31}_{i,j,a,b} $$"
      ],
      "text/plain": [
       "<IPython.core.display.Math object>"
      ]
     },
     "metadata": {},
     "output_type": "display_data"
    },
    {
     "data": {
      "text/latex": [
       "$$\\tau^{33}_{i,j,k,a} = - \\sum_{b \\in V} \\tau^{2}_{i,b} t_{b,a,j,k} $$"
      ],
      "text/plain": [
       "<IPython.core.display.Math object>"
      ]
     },
     "metadata": {},
     "output_type": "display_data"
    },
    {
     "data": {
      "text/latex": [
       "$$\\tau^{34}_{i,j,a,b} = - \\sum_{k \\in O} 2 t_{b,k} \\tau^{33}_{k,j,i,a} $$"
      ],
      "text/plain": [
       "<IPython.core.display.Math object>"
      ]
     },
     "metadata": {},
     "output_type": "display_data"
    },
    {
     "data": {
      "text/latex": [
       "$$\\tau^{35}_{i,j,a,b} = \\sum_{k \\in O} \\sum_{c \\in V} t_{c,a,k,i} u_{k,j,c,b} $$"
      ],
      "text/plain": [
       "<IPython.core.display.Math object>"
      ]
     },
     "metadata": {},
     "output_type": "display_data"
    },
    {
     "data": {
      "text/latex": [
       "$$\\tau^{36}_{i,j,a,b} = \\sum_{k \\in O} \\sum_{c \\in V} t_{c,a,k,i} \\tau^{35}_{j,k,b,c} $$"
      ],
      "text/plain": [
       "<IPython.core.display.Math object>"
      ]
     },
     "metadata": {},
     "output_type": "display_data"
    },
    {
     "data": {
      "text/latex": [
       "$$\\tau^{37}_{i,j,k,a} = - \\sum_{b \\in V} \\sum_{c \\in V} t_{c,b,j,i} u_{k,a,c,b} $$"
      ],
      "text/plain": [
       "<IPython.core.display.Math object>"
      ]
     },
     "metadata": {},
     "output_type": "display_data"
    },
    {
     "data": {
      "text/latex": [
       "$$\\tau^{38}_{i,j,k,a} = \\sum_{b \\in V} t_{b,i} \\tau^{29}_{j,k,a,b} $$"
      ],
      "text/plain": [
       "<IPython.core.display.Math object>"
      ]
     },
     "metadata": {},
     "output_type": "display_data"
    },
    {
     "data": {
      "text/latex": [
       "$$\\tau^{39}_{i,j,k,a} = - \\tau^{37}_{j,i,k,a}  - 2 u_{k,a,j,i}  - 2 \\tau^{38}_{j,i,k,a} $$"
      ],
      "text/plain": [
       "<IPython.core.display.Math object>"
      ]
     },
     "metadata": {},
     "output_type": "display_data"
    },
    {
     "data": {
      "text/latex": [
       "$$\\tau^{40}_{i,j,a,b} = - \\sum_{k \\in O} t_{a,k} \\tau^{39}_{j,i,k,b} $$"
      ],
      "text/plain": [
       "<IPython.core.display.Math object>"
      ]
     },
     "metadata": {},
     "output_type": "display_data"
    },
    {
     "data": {
      "text/latex": [
       "$$\\tau^{41}_{a,b} = \\sum_{i \\in O} \\sum_{j \\in O} \\sum_{c \\in V} t_{c,a,j,i} u_{j,i,c,b} $$"
      ],
      "text/plain": [
       "<IPython.core.display.Math object>"
      ]
     },
     "metadata": {},
     "output_type": "display_data"
    },
    {
     "data": {
      "text/latex": [
       "$$\\tau^{42}_{a,b} = 2 \\tau^{8}_{a,b}   + \\tau^{41}_{a,b} $$"
      ],
      "text/plain": [
       "<IPython.core.display.Math object>"
      ]
     },
     "metadata": {},
     "output_type": "display_data"
    },
    {
     "data": {
      "text/latex": [
       "$$\\tau^{43}_{i,j,a,b} = - \\sum_{c \\in V} \\tau^{42}_{b,c} t_{c,a,i,j} $$"
      ],
      "text/plain": [
       "<IPython.core.display.Math object>"
      ]
     },
     "metadata": {},
     "output_type": "display_data"
    },
    {
     "data": {
      "text/latex": [
       "$$\\tau^{44}_{i,j,a,b} = \\sum_{c \\in V} f_{a,c} t_{c,b,j,i} $$"
      ],
      "text/plain": [
       "<IPython.core.display.Math object>"
      ]
     },
     "metadata": {},
     "output_type": "display_data"
    },
    {
     "data": {
      "text/latex": [
       "$$\\tau^{45}_{i,j,a,b} = \\tau^{34}_{i,j,a,b}   + 2 \\tau^{36}_{j,i,a,b}   + \\tau^{40}_{i,j,a,b}   + \\tau^{43}_{i,j,a,b}  - 2 \\tau^{44}_{j,i,a,b} $$"
      ],
      "text/plain": [
       "<IPython.core.display.Math object>"
      ]
     },
     "metadata": {},
     "output_type": "display_data"
    },
    {
     "data": {
      "text/latex": [
       "$$e = \\sum_{i \\in O} \\sum_{a \\in V} \\frac{1}{2} t_{a,i} \\tau^{1}_{i,a}   + \\sum_{i \\in O} \\sum_{j \\in O} \\sum_{a \\in V} \\sum_{b \\in V} \\frac{1}{4} t_{b,a,j,i} u_{j,i,b,a} $$"
      ],
      "text/plain": [
       "<IPython.core.display.Math object>"
      ]
     },
     "metadata": {},
     "output_type": "display_data"
    },
    {
     "data": {
      "text/latex": [
       "$$t_{a,i} = - \\sum_{j \\in O}  \\frac{1}{2} t_{a,j} \\tau^{5}_{j,i}  - \\sum_{j \\in O} \\sum_{k \\in O} \\sum_{b \\in V}  \\frac{1}{2} t_{b,a,j,k} \\tau^{7}_{i,k,j,b}   + \\sum_{b \\in V} t_{b,i} \\tau^{9}_{a,b}  - \\sum_{j \\in O} \\sum_{b \\in V} t_{b,j} u_{j,a,i,b}   + \\sum_{j \\in O} \\sum_{b \\in V} \\tau^{2}_{j,b} t_{b,a,j,i}   + \\sum_{j \\in O} \\sum_{b \\in V} \\sum_{c \\in V} \\frac{1}{2} t_{c,b,j,i} u_{j,a,c,b}   + f_{a,i} $$"
      ],
      "text/plain": [
       "<IPython.core.display.Math object>"
      ]
     },
     "metadata": {},
     "output_type": "display_data"
    },
    {
     "data": {
      "text/latex": [
       "$$t_{a,b,i,j} = \\sum_{k \\in O} \\sum_{l \\in O} \\frac{1}{4} t_{a,b,k,l} \\tau^{12}_{l,k,j,i}  - \\sum_{c \\in V} t_{c,j} \\tau^{13}_{i,a,b,c}   + \\sum_{k \\in O} \\frac{1}{2} t_{b,k} \\tau^{14}_{k,j,i,a}   + u_{b,a,j,i}   + \\sum_{c \\in V} \\sum_{d \\in V} \\frac{1}{2} t_{d,c,i,j} u_{a,b,d,c}  -  \\frac{1}{2} \\tau^{24}_{i,j,a,b}   + \\frac{1}{2} \\tau^{24}_{j,i,a,b}   + \\tau^{32}_{i,j,a,b}  - \\tau^{32}_{i,j,b,a}  - \\tau^{32}_{j,i,a,b}   + \\tau^{32}_{j,i,b,a}  -  \\frac{1}{2} \\tau^{45}_{i,j,a,b}   + \\frac{1}{2} \\tau^{45}_{i,j,b,a} $$"
      ],
      "text/plain": [
       "<IPython.core.display.Math object>"
      ]
     },
     "metadata": {},
     "output_type": "display_data"
    }
   ],
   "source": [
    "for eqn in eval_seq:\n",
    "    eqn.display(False)"
   ]
  }
 ],
 "metadata": {
  "kernelspec": {
   "display_name": "Python 3",
   "language": "python",
   "name": "python3"
  },
  "language_info": {
   "codemirror_mode": {
    "name": "ipython",
    "version": 3
   },
   "file_extension": ".py",
   "mimetype": "text/x-python",
   "name": "python",
   "nbconvert_exporter": "python",
   "pygments_lexer": "ipython3",
   "version": "3.5.3"
  }
 },
 "nbformat": 4,
 "nbformat_minor": 2
}
