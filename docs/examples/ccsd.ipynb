{
 "cells": [
  {
   "cell_type": "markdown",
   "metadata": {},
   "source": [
    "# Automatic derivation of CCSD theory\n",
    "\n",
    "This notebook serves as an example of interactive usage of drudge for complex symbolic manipulations in Jupyter notebooks.  Here we can see how the classical CCSD theory can be derived automatically."
   ]
  },
  {
   "cell_type": "markdown",
   "metadata": {},
   "source": [
    "## Preparatory work\n",
    "\n",
    "First, we need to set up the Spark environment.  Here we just use parallelization on the local machine."
   ]
  },
  {
   "cell_type": "code",
   "execution_count": 1,
   "metadata": {
    "collapsed": true
   },
   "outputs": [],
   "source": [
    "from pyspark import SparkContext\n",
    "ctx = SparkContext('local[*]', 'ccsd')"
   ]
  },
  {
   "cell_type": "markdown",
   "metadata": {},
   "source": [
    "Or we can also use the dummy spark to emulate the Spark environment in a purely serial way.  Note that we need just **one** Spark context.  These two cells should not be both evaluated."
   ]
  },
  {
   "cell_type": "code",
   "execution_count": null,
   "metadata": {
    "collapsed": true
   },
   "outputs": [],
   "source": [
    "from dummy_spark import SparkContext\n",
    "ctx = SparkContext()"
   ]
  },
  {
   "cell_type": "markdown",
   "metadata": {},
   "source": [
    "With the Spark context, we can construct the drudge specific for this problem.  Then we can define some names that is going to be used frequently."
   ]
  },
  {
   "cell_type": "code",
   "execution_count": 2,
   "metadata": {
    "collapsed": true
   },
   "outputs": [],
   "source": [
    "from sympy import *\n",
    "from drudge import *\n",
    "\n",
    "dr = PartHoleDrudge(ctx)\n",
    "dr.full_simplify = False\n",
    "p = dr.names\n",
    "\n",
    "c_ = p.c_\n",
    "c_dag = p.c_dag\n",
    "a, b = p.V_dumms[:2]\n",
    "i, j = p.O_dumms[:2]"
   ]
  },
  {
   "cell_type": "markdown",
   "metadata": {},
   "source": [
    "## Cluster excitation operator\n",
    "\n",
    "Here, we by using the Einstein summation convention tensor creator, we can just define the cluster operator in a way very similar to how we would writen them down on paper."
   ]
  },
  {
   "cell_type": "code",
   "execution_count": 3,
   "metadata": {
    "collapsed": true
   },
   "outputs": [],
   "source": [
    "t = IndexedBase('t')\n",
    "\n",
    "clusters = dr.einst(\n",
    "    t[a, i] * c_dag[a] * c_[i] +\n",
    "    t[a, b, i, j] * c_dag[a] * c_dag[b] * c_[j] * c_[i] / 4\n",
    ")"
   ]
  },
  {
   "cell_type": "markdown",
   "metadata": {},
   "source": [
    "We can have a peek at the cluster operator."
   ]
  },
  {
   "cell_type": "code",
   "execution_count": 4,
   "metadata": {},
   "outputs": [
    {
     "data": {
      "text/latex": [
       "$$\\sum_{i \\in O} \\sum_{a \\in V} t_{a,i} c^{\\dagger}_{a} c^{}_{i}  + \\sum_{i \\in O} \\sum_{j \\in O} \\sum_{a \\in V} \\sum_{b \\in V} \\frac{1}{4} t_{a,b,i,j} c^{\\dagger}_{a} c^{\\dagger}_{b} c^{}_{j} c^{}_{i}$$"
      ],
      "text/plain": [
       "<IPython.core.display.Math object>"
      ]
     },
     "execution_count": 4,
     "metadata": {},
     "output_type": "execute_result"
    }
   ],
   "source": [
    "clusters.display()"
   ]
  },
  {
   "cell_type": "markdown",
   "metadata": {},
   "source": [
    "Now we need tell the system about the symmetry on $t^2$, so that it can be used in simplification."
   ]
  },
  {
   "cell_type": "code",
   "execution_count": 5,
   "metadata": {
    "collapsed": true
   },
   "outputs": [],
   "source": [
    "dr.set_dbbar_base(t, 2)"
   ]
  },
  {
   "cell_type": "markdown",
   "metadata": {
    "collapsed": true
   },
   "source": [
    "## Similarity transform of the Hamiltonian\n",
    "\n",
    "Here we can use a loop to nest the commutation conveniently.  And IPython magic can be used to time the operation.  Note that after the simplification, we explicitly redistribute the terms in the transformed Hamiltonian for better parallel performance in later operations.  Note that `drudge` does not automatically cache the result of tensor computations.  The `cache` method should be called explicitly when a tensor is going to be used multiple times."
   ]
  },
  {
   "cell_type": "code",
   "execution_count": 6,
   "metadata": {},
   "outputs": [
    {
     "name": "stdout",
     "output_type": "stream",
     "text": [
      "CPU times: user 352 ms, sys: 50.9 ms, total: 403 ms\n",
      "Wall time: 26.4 s\n"
     ]
    }
   ],
   "source": [
    "%%time\n",
    "\n",
    "curr = dr.ham\n",
    "h_bar = dr.ham\n",
    "for order in range(0, 4):\n",
    "    curr = (curr | clusters).simplify() / (order + 1)\n",
    "    curr.cache()\n",
    "    h_bar += curr\n",
    "h_bar.repartition(cache=True)"
   ]
  },
  {
   "cell_type": "markdown",
   "metadata": {
    "collapsed": true
   },
   "source": [
    "The transformed Hamiltonian can be very complex.  Instead of reading its terms, we can just have a peek by get a count of the number of terms it contains."
   ]
  },
  {
   "cell_type": "code",
   "execution_count": 7,
   "metadata": {},
   "outputs": [
    {
     "data": {
      "text/plain": [
       "183"
      ]
     },
     "execution_count": 7,
     "metadata": {},
     "output_type": "execute_result"
    }
   ],
   "source": [
    "h_bar.n_terms"
   ]
  },
  {
   "cell_type": "markdown",
   "metadata": {},
   "source": [
    "## Working equation derivation\n",
    "\n",
    "With the similarity transformed Hamiltonian, we are now ready to derive the actual working equations.  First, the energy equation can be derived by taking the vacuum expectation value of the transformed Hamiltonian."
   ]
  },
  {
   "cell_type": "code",
   "execution_count": 8,
   "metadata": {
    "collapsed": true
   },
   "outputs": [],
   "source": [
    "en_eqn = h_bar.eval_fermi_vev().simplify()"
   ]
  },
  {
   "cell_type": "markdown",
   "metadata": {},
   "source": [
    "We can have a look at its contents to see if it is what we would expect."
   ]
  },
  {
   "cell_type": "code",
   "execution_count": 9,
   "metadata": {},
   "outputs": [
    {
     "data": {
      "text/latex": [
       "$$\\sum_{i \\in O} \\sum_{j \\in O} \\sum_{a \\in V} \\sum_{b \\in V} \\frac{1}{4} t_{a,b,i,j} u_{i,j,a,b}   + \\sum_{i \\in O} \\sum_{j \\in O} \\sum_{a \\in V} \\sum_{b \\in V} \\frac{1}{2} t_{a,i} t_{b,j} u_{i,j,a,b}   + \\sum_{i \\in O} \\sum_{a \\in V} f_{i,a} t_{a,i} $$"
      ],
      "text/plain": [
       "<IPython.core.display.Math object>"
      ]
     },
     "execution_count": 9,
     "metadata": {},
     "output_type": "execute_result"
    }
   ],
   "source": [
    "en_eqn.display()"
   ]
  },
  {
   "cell_type": "markdown",
   "metadata": {},
   "source": [
    "Next, we can create a projector to derive the working equation for the singles amplitude.\n"
   ]
  },
  {
   "cell_type": "code",
   "execution_count": 10,
   "metadata": {
    "collapsed": true
   },
   "outputs": [],
   "source": [
    "proj = c_dag[i] * c_[a]\n",
    "t1_eqn = (proj * h_bar).eval_fermi_vev().simplify()"
   ]
  },
  {
   "cell_type": "markdown",
   "metadata": {},
   "source": [
    "In the same way, we can display its content."
   ]
  },
  {
   "cell_type": "code",
   "execution_count": 11,
   "metadata": {},
   "outputs": [
    {
     "data": {
      "text/latex": [
       "$$- \\sum_{j \\in O} f_{j,i} t_{a,j}   + \\sum_{j \\in O} \\sum_{b \\in V} \\sum_{c \\in V} \\frac{1}{2} t_{b,c,i,j} u_{a,j,b,c}   + \\sum_{j \\in O} \\sum_{b \\in V} \\sum_{c \\in V} t_{b,i} t_{c,j} u_{a,j,b,c}   + \\sum_{j \\in O} \\sum_{b \\in V} f_{j,b} t_{a,b,i,j}   + \\sum_{j \\in O} \\sum_{b \\in V} t_{b,j} u_{a,j,i,b}  - \\sum_{j \\in O} \\sum_{b \\in V} f_{j,b} t_{a,j} t_{b,i}   + \\sum_{j \\in O} \\sum_{k \\in O} \\sum_{b \\in V} \\sum_{c \\in V} t_{c,k} t_{a,b,i,j} u_{j,k,b,c}   + \\sum_{j \\in O} \\sum_{k \\in O} \\sum_{b \\in V} \\sum_{c \\in V} \\frac{1}{2} t_{a,k} t_{b,c,i,j} u_{j,k,b,c}   + \\sum_{j \\in O} \\sum_{k \\in O} \\sum_{b \\in V} \\sum_{c \\in V} \\frac{1}{2} t_{c,i} t_{a,b,j,k} u_{j,k,b,c}  - \\sum_{j \\in O} \\sum_{k \\in O} \\sum_{b \\in V} \\sum_{c \\in V} t_{a,j} t_{b,i} t_{c,k} u_{j,k,b,c}   + f_{a,i}   + \\sum_{b \\in V} f_{a,b} t_{b,i}  - \\sum_{j \\in O} \\sum_{k \\in O} \\sum_{b \\in V}  \\frac{1}{2} t_{a,b,j,k} u_{j,k,i,b}  - \\sum_{j \\in O} \\sum_{k \\in O} \\sum_{b \\in V} t_{a,j} t_{b,k} u_{j,k,i,b} $$"
      ],
      "text/plain": [
       "<IPython.core.display.Math object>"
      ]
     },
     "execution_count": 11,
     "metadata": {},
     "output_type": "execute_result"
    }
   ],
   "source": [
    "t1_eqn.display()"
   ]
  },
  {
   "cell_type": "markdown",
   "metadata": {},
   "source": [
    "The working equation for the doubles amplitude can be done in the same way, just it can be slower."
   ]
  },
  {
   "cell_type": "code",
   "execution_count": 12,
   "metadata": {},
   "outputs": [
    {
     "name": "stdout",
     "output_type": "stream",
     "text": [
      "CPU times: user 81.8 ms, sys: 13 ms, total: 94.8 ms\n",
      "Wall time: 8.5 s\n"
     ]
    }
   ],
   "source": [
    "%%time\n",
    "\n",
    "proj = c_dag[i] * c_dag[j] * c_[b] * c_[a]\n",
    "t2_eqn = (proj * h_bar).eval_fermi_vev().simplify()"
   ]
  },
  {
   "cell_type": "markdown",
   "metadata": {},
   "source": [
    "Since the equation can be slightly complex, we can vaguely sort the terms in increasing complexity before display them."
   ]
  },
  {
   "cell_type": "code",
   "execution_count": 13,
   "metadata": {},
   "outputs": [
    {
     "data": {
      "text/latex": [
       "$$u_{a,b,i,j}   + \\sum_{k \\in O} t_{a,k} u_{b,k,i,j}  - \\sum_{k \\in O} f_{k,i} t_{a,b,k,j}  - \\sum_{k \\in O} f_{k,j} t_{a,b,i,k}  - \\sum_{k \\in O} t_{b,k} u_{a,k,i,j}   + \\sum_{c \\in V} f_{b,c} t_{a,c,i,j}   + \\sum_{c \\in V} t_{c,i} u_{a,b,c,j}   + \\sum_{c \\in V} t_{c,j} u_{a,b,i,c}  - \\sum_{c \\in V} f_{a,c} t_{b,c,i,j}   + \\sum_{k \\in O} \\sum_{l \\in O} \\frac{1}{2} t_{a,b,k,l} u_{k,l,i,j}   + \\sum_{k \\in O} \\sum_{l \\in O} t_{a,k} t_{b,l} u_{k,l,i,j}   + \\sum_{k \\in O} \\sum_{c \\in V} t_{a,c,k,j} u_{b,k,i,c}   + \\sum_{k \\in O} \\sum_{c \\in V} t_{b,c,i,k} u_{a,k,c,j}  - \\sum_{k \\in O} \\sum_{c \\in V} t_{a,c,i,k} u_{b,k,c,j}  - \\sum_{k \\in O} \\sum_{c \\in V} t_{b,c,k,j} u_{a,k,i,c}   + \\sum_{k \\in O} \\sum_{c \\in V} f_{k,c} t_{a,k} t_{b,c,i,j}   + \\sum_{k \\in O} \\sum_{c \\in V} t_{a,k} t_{c,i} u_{b,k,c,j}   + \\sum_{k \\in O} \\sum_{c \\in V} t_{a,k} t_{c,j} u_{b,k,i,c}  - \\sum_{k \\in O} \\sum_{c \\in V} f_{k,c} t_{b,k} t_{a,c,i,j}  - \\sum_{k \\in O} \\sum_{c \\in V} f_{k,c} t_{c,i} t_{a,b,k,j}  - \\sum_{k \\in O} \\sum_{c \\in V} f_{k,c} t_{c,j} t_{a,b,i,k}  - \\sum_{k \\in O} \\sum_{c \\in V} t_{b,k} t_{c,i} u_{a,k,c,j}  - \\sum_{k \\in O} \\sum_{c \\in V} t_{b,k} t_{c,j} u_{a,k,i,c}   + \\sum_{c \\in V} \\sum_{d \\in V} \\frac{1}{2} t_{c,d,i,j} u_{a,b,c,d}   + \\sum_{c \\in V} \\sum_{d \\in V} t_{c,i} t_{d,j} u_{a,b,c,d}   + \\sum_{k \\in O} \\sum_{l \\in O} \\sum_{c \\in V} t_{a,l} t_{b,c,i,k} u_{k,l,c,j}   + \\sum_{k \\in O} \\sum_{l \\in O} \\sum_{c \\in V} t_{b,l} t_{a,c,k,j} u_{k,l,i,c}   + \\sum_{k \\in O} \\sum_{l \\in O} \\sum_{c \\in V} t_{c,l} t_{a,b,i,k} u_{k,l,c,j}  - \\sum_{k \\in O} \\sum_{l \\in O} \\sum_{c \\in V} t_{a,l} t_{b,c,k,j} u_{k,l,i,c}  - \\sum_{k \\in O} \\sum_{l \\in O} \\sum_{c \\in V} t_{b,l} t_{a,c,i,k} u_{k,l,c,j}   + \\sum_{k \\in O} \\sum_{l \\in O} \\sum_{c \\in V} \\frac{1}{2} t_{c,i} t_{a,b,k,l} u_{k,l,c,j}   + \\sum_{k \\in O} \\sum_{l \\in O} \\sum_{c \\in V} \\frac{1}{2} t_{c,j} t_{a,b,k,l} u_{k,l,i,c}  - \\sum_{k \\in O} \\sum_{l \\in O} \\sum_{c \\in V} t_{c,l} t_{a,b,k,j} u_{k,l,i,c}   + \\sum_{k \\in O} \\sum_{l \\in O} \\sum_{c \\in V} t_{a,k} t_{b,l} t_{c,i} u_{k,l,c,j}   + \\sum_{k \\in O} \\sum_{l \\in O} \\sum_{c \\in V} t_{a,k} t_{b,l} t_{c,j} u_{k,l,i,c}   + \\sum_{k \\in O} \\sum_{c \\in V} \\sum_{d \\in V} t_{d,i} t_{b,c,k,j} u_{a,k,c,d}   + \\sum_{k \\in O} \\sum_{c \\in V} \\sum_{d \\in V} t_{d,j} t_{b,c,i,k} u_{a,k,c,d}   + \\sum_{k \\in O} \\sum_{c \\in V} \\sum_{d \\in V} t_{d,k} t_{a,c,i,j} u_{b,k,c,d}   + \\sum_{k \\in O} \\sum_{c \\in V} \\sum_{d \\in V} \\frac{1}{2} t_{a,k} t_{c,d,i,j} u_{b,k,c,d}  - \\sum_{k \\in O} \\sum_{c \\in V} \\sum_{d \\in V} t_{d,i} t_{a,c,k,j} u_{b,k,c,d}  - \\sum_{k \\in O} \\sum_{c \\in V} \\sum_{d \\in V} t_{d,j} t_{a,c,i,k} u_{b,k,c,d}  - \\sum_{k \\in O} \\sum_{c \\in V} \\sum_{d \\in V} t_{d,k} t_{b,c,i,j} u_{a,k,c,d}   + \\sum_{k \\in O} \\sum_{c \\in V} \\sum_{d \\in V} t_{a,k} t_{c,i} t_{d,j} u_{b,k,c,d}  - \\sum_{k \\in O} \\sum_{c \\in V} \\sum_{d \\in V}  \\frac{1}{2} t_{b,k} t_{c,d,i,j} u_{a,k,c,d}  - \\sum_{k \\in O} \\sum_{c \\in V} \\sum_{d \\in V} t_{b,k} t_{c,i} t_{d,j} u_{a,k,c,d}   + \\sum_{k \\in O} \\sum_{l \\in O} \\sum_{c \\in V} \\sum_{d \\in V} t_{a,c,k,j} t_{b,d,i,l} u_{k,l,c,d}   + \\sum_{k \\in O} \\sum_{l \\in O} \\sum_{c \\in V} \\sum_{d \\in V} \\frac{1}{4} t_{a,b,k,l} t_{c,d,i,j} u_{k,l,c,d}   + \\sum_{k \\in O} \\sum_{l \\in O} \\sum_{c \\in V} \\sum_{d \\in V} \\frac{1}{2} t_{a,b,l,j} t_{c,d,i,k} u_{k,l,c,d}  - \\sum_{k \\in O} \\sum_{l \\in O} \\sum_{c \\in V} \\sum_{d \\in V} t_{a,c,i,k} t_{b,d,l,j} u_{k,l,c,d}   + \\sum_{k \\in O} \\sum_{l \\in O} \\sum_{c \\in V} \\sum_{d \\in V} \\frac{1}{2} t_{a,d,i,j} t_{b,c,k,l} u_{k,l,c,d}   + \\sum_{k \\in O} \\sum_{l \\in O} \\sum_{c \\in V} \\sum_{d \\in V} t_{a,k} t_{d,l} t_{b,c,i,j} u_{k,l,c,d}   + \\sum_{k \\in O} \\sum_{l \\in O} \\sum_{c \\in V} \\sum_{d \\in V} t_{a,l} t_{d,i} t_{b,c,k,j} u_{k,l,c,d}   + \\sum_{k \\in O} \\sum_{l \\in O} \\sum_{c \\in V} \\sum_{d \\in V} t_{a,l} t_{d,j} t_{b,c,i,k} u_{k,l,c,d}   + \\sum_{k \\in O} \\sum_{l \\in O} \\sum_{c \\in V} \\sum_{d \\in V} t_{c,l} t_{d,j} t_{a,b,i,k} u_{k,l,c,d}  - \\sum_{k \\in O} \\sum_{l \\in O} \\sum_{c \\in V} \\sum_{d \\in V}  \\frac{1}{2} t_{a,b,i,l} t_{c,d,k,j} u_{k,l,c,d}  - \\sum_{k \\in O} \\sum_{l \\in O} \\sum_{c \\in V} \\sum_{d \\in V}  \\frac{1}{2} t_{a,c,k,l} t_{b,d,i,j} u_{k,l,c,d}   + \\sum_{k \\in O} \\sum_{l \\in O} \\sum_{c \\in V} \\sum_{d \\in V} \\frac{1}{2} t_{a,k} t_{b,l} t_{c,d,i,j} u_{k,l,c,d}  - \\sum_{k \\in O} \\sum_{l \\in O} \\sum_{c \\in V} \\sum_{d \\in V} t_{b,k} t_{d,l} t_{a,c,i,j} u_{k,l,c,d}  - \\sum_{k \\in O} \\sum_{l \\in O} \\sum_{c \\in V} \\sum_{d \\in V} t_{b,l} t_{d,i} t_{a,c,k,j} u_{k,l,c,d}  - \\sum_{k \\in O} \\sum_{l \\in O} \\sum_{c \\in V} \\sum_{d \\in V} t_{b,l} t_{d,j} t_{a,c,i,k} u_{k,l,c,d}   + \\sum_{k \\in O} \\sum_{l \\in O} \\sum_{c \\in V} \\sum_{d \\in V} \\frac{1}{2} t_{c,i} t_{d,j} t_{a,b,k,l} u_{k,l,c,d}  - \\sum_{k \\in O} \\sum_{l \\in O} \\sum_{c \\in V} \\sum_{d \\in V} t_{c,i} t_{d,l} t_{a,b,k,j} u_{k,l,c,d}   + \\sum_{k \\in O} \\sum_{l \\in O} \\sum_{c \\in V} \\sum_{d \\in V} t_{a,k} t_{b,l} t_{c,i} t_{d,j} u_{k,l,c,d} $$"
      ],
      "text/plain": [
       "<IPython.core.display.Math object>"
      ]
     },
     "execution_count": 13,
     "metadata": {},
     "output_type": "execute_result"
    }
   ],
   "source": [
    "t2_eqn = t2_eqn.sort()\n",
    "t2_eqn.display()"
   ]
  },
  {
   "cell_type": "markdown",
   "metadata": {},
   "source": [
    "## Working equation optimization\n",
    "\n",
    "Evaluating the working equation takes a lot of effort.  Outside ``drudge``, a sister package named ``gristmill`` is available for the optimization and automatic code generation for tensor contractions.  To start with, we need to put the working equations into a tensor definitions with external indices and import the ``gristmill`` package."
   ]
  },
  {
   "cell_type": "code",
   "execution_count": 14,
   "metadata": {
    "collapsed": true
   },
   "outputs": [],
   "source": [
    "from gristmill import *\n",
    "\n",
    "working_eqn = [\n",
    "    dr.define(Symbol('e'), en_eqn), \n",
    "    dr.define(t[a, i], t1_eqn), \n",
    "    dr.define(t[a, b, i, j], t2_eqn)\n",
    "]"
   ]
  },
  {
   "cell_type": "markdown",
   "metadata": {},
   "source": [
    "We can have an estimation of the FLOP cost without any optimization."
   ]
  },
  {
   "cell_type": "code",
   "execution_count": 15,
   "metadata": {},
   "outputs": [
    {
     "data": {
      "image/png": "[encoded data removed]",
      "text/latex": [
       "$$66 no^{4} nv^{4}$$"
      ],
      "text/plain": [
       "     4   4\n",
       "66⋅no ⋅nv "
      ]
     },
     "execution_count": 15,
     "metadata": {},
     "output_type": "execute_result"
    }
   ],
   "source": [
    "orig_cost = get_flop_cost(working_eqn, leading=True)\n",
    "init_printing()\n",
    "orig_cost"
   ]
  },
  {
   "cell_type": "markdown",
   "metadata": {},
   "source": [
    "Since normally we have far more virtual orbitals than occupied orbitals, we have make the optimization based on this."
   ]
  },
  {
   "cell_type": "code",
   "execution_count": 16,
   "metadata": {},
   "outputs": [
    {
     "name": "stdout",
     "output_type": "stream",
     "text": [
      "CPU times: user 12.1 s, sys: 383 ms, total: 12.4 s\n",
      "Wall time: 33.7 s\n"
     ]
    }
   ],
   "source": [
    "%%time\n",
    "\n",
    "eval_seq = optimize(\n",
    "    working_eqn, substs={p.nv: p.no * 10}, \n",
    "    strategy=Strategy.ALL | Strategy.SUM | Strategy.COMMON,\n",
    "    drop_cutoff=2\n",
    ")"
   ]
  },
  {
   "cell_type": "markdown",
   "metadata": {},
   "source": [
    "Now we can have some inspection of the evaluation sequence."
   ]
  },
  {
   "cell_type": "code",
   "execution_count": 17,
   "metadata": {},
   "outputs": [
    {
     "data": {
      "image/png": "[encoded data removed]",
      "text/latex": [
       "$$42$$"
      ],
      "text/plain": [
       "42"
      ]
     },
     "execution_count": 17,
     "metadata": {},
     "output_type": "execute_result"
    }
   ],
   "source": [
    "len(eval_seq)"
   ]
  },
  {
   "cell_type": "code",
   "execution_count": 18,
   "metadata": {},
   "outputs": [
    {
     "data": {
      "image/png": "[encoded data removed]",
      "text/latex": [
       "$$4 no^{4} nv^{2} + 6 no^{3} nv^{3} + 2 no^{2} nv^{4}$$"
      ],
      "text/plain": [
       "    4   2       3   3       2   4\n",
       "4⋅no ⋅nv  + 6⋅no ⋅nv  + 2⋅no ⋅nv "
      ]
     },
     "execution_count": 18,
     "metadata": {},
     "output_type": "execute_result"
    }
   ],
   "source": [
    "opt_cost = get_flop_cost(eval_seq, leading=True)\n",
    "opt_cost"
   ]
  },
  {
   "cell_type": "markdown",
   "metadata": {},
   "source": [
    "Significant optimization can be seen.  Finally we can verify the correctness of the evaluation sequence.  This step can be very slow.  But it is adviced for mission-critical tasks."
   ]
  },
  {
   "cell_type": "code",
   "execution_count": 19,
   "metadata": {},
   "outputs": [
    {
     "data": {
      "text/plain": [
       "True"
      ]
     },
     "execution_count": 19,
     "metadata": {},
     "output_type": "execute_result"
    }
   ],
   "source": [
    "verify_eval_seq(eval_seq, working_eqn, simplify=True)"
   ]
  },
  {
   "cell_type": "markdown",
   "metadata": {
    "collapsed": true
   },
   "source": [
    "Finally, we have have a peek at the details of the intermediates."
   ]
  },
  {
   "cell_type": "code",
   "execution_count": 21,
   "metadata": {},
   "outputs": [
    {
     "data": {
      "text/latex": [
       "$$\\tau^{0}_{i,j,a,b} = t_{b,a,j,i}   + 2 t_{a,i} t_{b,j} $$"
      ],
      "text/plain": [
       "<IPython.core.display.Math object>"
      ]
     },
     "metadata": {},
     "output_type": "display_data"
    },
    {
     "data": {
      "text/latex": [
       "$$\\tau^{1}_{i,j,k,a} = \\sum_{b \\in V} t_{b,i} u_{k,j,b,a} $$"
      ],
      "text/plain": [
       "<IPython.core.display.Math object>"
      ]
     },
     "metadata": {},
     "output_type": "display_data"
    },
    {
     "data": {
      "text/latex": [
       "$$\\tau^{2}_{i,j,k,a} = u_{k,j,i,a}  - \\tau^{1}_{i,k,j,a} $$"
      ],
      "text/plain": [
       "<IPython.core.display.Math object>"
      ]
     },
     "metadata": {},
     "output_type": "display_data"
    },
    {
     "data": {
      "text/latex": [
       "$$\\tau^{3}_{i,a} = \\sum_{j \\in O} \\sum_{b \\in V} t_{b,j} u_{j,i,b,a}   + f_{i,a} $$"
      ],
      "text/plain": [
       "<IPython.core.display.Math object>"
      ]
     },
     "metadata": {},
     "output_type": "display_data"
    },
    {
     "data": {
      "text/latex": [
       "$$\\tau^{4}_{i,j} = \\sum_{a \\in V} f_{i,a} t_{a,j} $$"
      ],
      "text/plain": [
       "<IPython.core.display.Math object>"
      ]
     },
     "metadata": {},
     "output_type": "display_data"
    },
    {
     "data": {
      "text/latex": [
       "$$\\tau^{5}_{i,j} = - \\sum_{k \\in O} \\sum_{a \\in V} t_{a,k} u_{k,i,j,a} $$"
      ],
      "text/plain": [
       "<IPython.core.display.Math object>"
      ]
     },
     "metadata": {},
     "output_type": "display_data"
    },
    {
     "data": {
      "text/latex": [
       "$$\\tau^{6}_{i,j} = \\sum_{k \\in O} \\sum_{a \\in V} \\sum_{b \\in V} \\tau^{0}_{k,j,a,b} u_{k,i,a,b} $$"
      ],
      "text/plain": [
       "<IPython.core.display.Math object>"
      ]
     },
     "metadata": {},
     "output_type": "display_data"
    },
    {
     "data": {
      "text/latex": [
       "$$\\tau^{7}_{i,j} = 2 f_{i,j}   + 2 \\tau^{4}_{i,j}   + 2 \\tau^{5}_{i,j}   + \\tau^{6}_{i,j} $$"
      ],
      "text/plain": [
       "<IPython.core.display.Math object>"
      ]
     },
     "metadata": {},
     "output_type": "display_data"
    },
    {
     "data": {
      "text/latex": [
       "$$\\tau^{8}_{i,j,a,b} = \\sum_{k \\in O} f_{k,i} t_{b,a,k,j} $$"
      ],
      "text/plain": [
       "<IPython.core.display.Math object>"
      ]
     },
     "metadata": {},
     "output_type": "display_data"
    },
    {
     "data": {
      "text/latex": [
       "$$\\tau^{9}_{i,j,a,b} = - \\sum_{c \\in V} t_{c,i} u_{b,a,j,c} $$"
      ],
      "text/plain": [
       "<IPython.core.display.Math object>"
      ]
     },
     "metadata": {},
     "output_type": "display_data"
    },
    {
     "data": {
      "text/latex": [
       "$$\\tau^{10}_{i,j} = 2 \\tau^{4}_{i,j}   + 2 \\tau^{5}_{i,j}   + \\tau^{6}_{i,j} $$"
      ],
      "text/plain": [
       "<IPython.core.display.Math object>"
      ]
     },
     "metadata": {},
     "output_type": "display_data"
    },
    {
     "data": {
      "text/latex": [
       "$$\\tau^{11}_{i,j,a,b} = \\sum_{k \\in O} \\tau^{10}_{k,i} t_{a,b,k,j} $$"
      ],
      "text/plain": [
       "<IPython.core.display.Math object>"
      ]
     },
     "metadata": {},
     "output_type": "display_data"
    },
    {
     "data": {
      "text/latex": [
       "$$\\tau^{12}_{i,j,a,b} = 2 \\tau^{8}_{i,j,b,a}  - 2 \\tau^{9}_{i,j,b,a}   + \\tau^{11}_{j,i,b,a} $$"
      ],
      "text/plain": [
       "<IPython.core.display.Math object>"
      ]
     },
     "metadata": {},
     "output_type": "display_data"
    },
    {
     "data": {
      "text/latex": [
       "$$\\tau^{13}_{i,j,a,b} = - \\sum_{k \\in O} t_{a,k} u_{k,b,j,i} $$"
      ],
      "text/plain": [
       "<IPython.core.display.Math object>"
      ]
     },
     "metadata": {},
     "output_type": "display_data"
    },
    {
     "data": {
      "text/latex": [
       "$$\\tau^{14}_{i,j,a,b} = \\sum_{k \\in O} \\sum_{c \\in V} t_{c,a,k,i} u_{k,j,c,b} $$"
      ],
      "text/plain": [
       "<IPython.core.display.Math object>"
      ]
     },
     "metadata": {},
     "output_type": "display_data"
    },
    {
     "data": {
      "text/latex": [
       "$$\\tau^{15}_{i,j,a,b} = \\sum_{k \\in O} \\sum_{c \\in V} t_{c,a,k,i} \\tau^{14}_{j,k,b,c} $$"
      ],
      "text/plain": [
       "<IPython.core.display.Math object>"
      ]
     },
     "metadata": {},
     "output_type": "display_data"
    },
    {
     "data": {
      "text/latex": [
       "$$\\tau^{16}_{i,j,a,b} = \\sum_{c \\in V} f_{a,c} t_{c,b,j,i} $$"
      ],
      "text/plain": [
       "<IPython.core.display.Math object>"
      ]
     },
     "metadata": {},
     "output_type": "display_data"
    },
    {
     "data": {
      "text/latex": [
       "$$\\tau^{17}_{a,b} = \\sum_{i \\in O} f_{i,a} t_{b,i} $$"
      ],
      "text/plain": [
       "<IPython.core.display.Math object>"
      ]
     },
     "metadata": {},
     "output_type": "display_data"
    },
    {
     "data": {
      "text/latex": [
       "$$\\tau^{18}_{a,b} = - \\sum_{i \\in O} \\sum_{c \\in V} t_{c,i} u_{i,a,c,b} $$"
      ],
      "text/plain": [
       "<IPython.core.display.Math object>"
      ]
     },
     "metadata": {},
     "output_type": "display_data"
    },
    {
     "data": {
      "text/latex": [
       "$$\\tau^{19}_{a,b} = \\sum_{i \\in O} \\sum_{j \\in O} \\sum_{c \\in V} \\tau^{0}_{i,j,c,b} u_{i,j,c,a} $$"
      ],
      "text/plain": [
       "<IPython.core.display.Math object>"
      ]
     },
     "metadata": {},
     "output_type": "display_data"
    },
    {
     "data": {
      "text/latex": [
       "$$\\tau^{20}_{a,b} = 2 \\tau^{17}_{b,a}   + 2 \\tau^{18}_{a,b}   + \\tau^{19}_{b,a} $$"
      ],
      "text/plain": [
       "<IPython.core.display.Math object>"
      ]
     },
     "metadata": {},
     "output_type": "display_data"
    },
    {
     "data": {
      "text/latex": [
       "$$\\tau^{21}_{i,j,a,b} = \\sum_{c \\in V} \\tau^{20}_{a,c} t_{c,b,i,j} $$"
      ],
      "text/plain": [
       "<IPython.core.display.Math object>"
      ]
     },
     "metadata": {},
     "output_type": "display_data"
    },
    {
     "data": {
      "text/latex": [
       "$$\\tau^{22}_{i,j,a,b} = - 2 \\tau^{13}_{j,i,a,b}   + 2 \\tau^{15}_{j,i,a,b}  - 2 \\tau^{16}_{j,i,a,b}   + \\tau^{21}_{j,i,b,a} $$"
      ],
      "text/plain": [
       "<IPython.core.display.Math object>"
      ]
     },
     "metadata": {},
     "output_type": "display_data"
    },
    {
     "data": {
      "text/latex": [
       "$$\\tau^{23}_{i,j,k,a} = \\sum_{b \\in V} t_{b,i} u_{j,a,k,b} $$"
      ],
      "text/plain": [
       "<IPython.core.display.Math object>"
      ]
     },
     "metadata": {},
     "output_type": "display_data"
    },
    {
     "data": {
      "text/latex": [
       "$$\\tau^{24}_{i,j,a,b} = \\sum_{k \\in O} t_{a,k} \\tau^{23}_{i,k,j,b} $$"
      ],
      "text/plain": [
       "<IPython.core.display.Math object>"
      ]
     },
     "metadata": {},
     "output_type": "display_data"
    },
    {
     "data": {
      "text/latex": [
       "$$\\tau^{25}_{i,j,a,b} = - \\sum_{c \\in V} t_{c,i} u_{j,a,c,b} $$"
      ],
      "text/plain": [
       "<IPython.core.display.Math object>"
      ]
     },
     "metadata": {},
     "output_type": "display_data"
    },
    {
     "data": {
      "text/latex": [
       "$$\\tau^{26}_{i,j,a,b} = \\sum_{k \\in O} t_{a,k} \\tau^{2}_{i,k,j,b} $$"
      ],
      "text/plain": [
       "<IPython.core.display.Math object>"
      ]
     },
     "metadata": {},
     "output_type": "display_data"
    },
    {
     "data": {
      "text/latex": [
       "$$\\tau^{27}_{i,j,a,b} = - u_{j,a,i,b}   + \\tau^{25}_{i,j,a,b}   + \\tau^{26}_{i,j,a,b} $$"
      ],
      "text/plain": [
       "<IPython.core.display.Math object>"
      ]
     },
     "metadata": {},
     "output_type": "display_data"
    },
    {
     "data": {
      "text/latex": [
       "$$\\tau^{28}_{i,j,a,b} = \\sum_{k \\in O} \\sum_{c \\in V} t_{c,b,k,j} \\tau^{27}_{i,k,a,c} $$"
      ],
      "text/plain": [
       "<IPython.core.display.Math object>"
      ]
     },
     "metadata": {},
     "output_type": "display_data"
    },
    {
     "data": {
      "text/latex": [
       "$$\\tau^{29}_{i,j,a,b} = \\tau^{24}_{i,j,a,b}   + \\tau^{28}_{j,i,b,a} $$"
      ],
      "text/plain": [
       "<IPython.core.display.Math object>"
      ]
     },
     "metadata": {},
     "output_type": "display_data"
    },
    {
     "data": {
      "text/latex": [
       "$$\\tau^{30}_{i,j,a,b} = - t_{b,a,j,i}   + 2 t_{a,j} t_{b,i} $$"
      ],
      "text/plain": [
       "<IPython.core.display.Math object>"
      ]
     },
     "metadata": {},
     "output_type": "display_data"
    },
    {
     "data": {
      "text/latex": [
       "$$\\tau^{31}_{i,j,k,l} = - \\sum_{a \\in V} t_{a,i} u_{k,j,l,a} $$"
      ],
      "text/plain": [
       "<IPython.core.display.Math object>"
      ]
     },
     "metadata": {},
     "output_type": "display_data"
    },
    {
     "data": {
      "text/latex": [
       "$$\\tau^{32}_{i,j,k,l} = 2 u_{j,i,l,k}   + 2 \\tau^{31}_{k,j,i,l}  - 2 \\tau^{31}_{l,j,i,k}  - \\sum_{a \\in V} \\sum_{b \\in V} \\tau^{30}_{l,k,a,b} u_{j,i,a,b} $$"
      ],
      "text/plain": [
       "<IPython.core.display.Math object>"
      ]
     },
     "metadata": {},
     "output_type": "display_data"
    },
    {
     "data": {
      "text/latex": [
       "$$\\tau^{33}_{a,b,c,d} = - \\sum_{i \\in O} t_{a,i} u_{i,b,d,c} $$"
      ],
      "text/plain": [
       "<IPython.core.display.Math object>"
      ]
     },
     "metadata": {},
     "output_type": "display_data"
    },
    {
     "data": {
      "text/latex": [
       "$$\\tau^{34}_{a,b,c,d} = u_{b,a,d,c}   + \\tau^{33}_{a,b,d,c}  - \\tau^{33}_{b,a,d,c} $$"
      ],
      "text/plain": [
       "<IPython.core.display.Math object>"
      ]
     },
     "metadata": {},
     "output_type": "display_data"
    },
    {
     "data": {
      "text/latex": [
       "$$e = \\sum_{i \\in O} \\sum_{a \\in V} f_{i,a} t_{a,i}   + \\sum_{i \\in O} \\sum_{j \\in O} \\sum_{a \\in V} \\sum_{b \\in V} \\frac{1}{4} \\tau^{0}_{i,j,a,b} u_{i,j,a,b} $$"
      ],
      "text/plain": [
       "<IPython.core.display.Math object>"
      ]
     },
     "metadata": {},
     "output_type": "display_data"
    },
    {
     "data": {
      "text/latex": [
       "$$t_{a,i} = \\sum_{b \\in V} f_{a,b} t_{b,i}  - \\sum_{j \\in O} \\sum_{b \\in V} t_{b,j} u_{j,a,i,b}   + f_{a,i}  - \\sum_{j \\in O} \\sum_{k \\in O} \\sum_{b \\in V}  \\frac{1}{2} t_{b,a,j,k} \\tau^{2}_{i,j,k,b}   + \\sum_{j \\in O} \\sum_{b \\in V} \\tau^{3}_{j,b} t_{b,a,j,i}   + \\sum_{j \\in O} \\sum_{b \\in V} \\sum_{c \\in V} \\frac{1}{2} \\tau^{0}_{j,i,b,c} u_{j,a,b,c}  - \\sum_{j \\in O}  \\frac{1}{2} t_{a,j} \\tau^{7}_{j,i} $$"
      ],
      "text/plain": [
       "<IPython.core.display.Math object>"
      ]
     },
     "metadata": {},
     "output_type": "display_data"
    },
    {
     "data": {
      "text/latex": [
       "$$t_{a,b,i,j} = u_{b,a,j,i}  -  \\frac{1}{2} \\tau^{12}_{i,j,a,b}   + \\frac{1}{2} \\tau^{12}_{j,i,a,b}  -  \\frac{1}{2} \\tau^{22}_{i,j,a,b}   + \\frac{1}{2} \\tau^{22}_{i,j,b,a}   + \\tau^{29}_{i,j,a,b}  - \\tau^{29}_{i,j,b,a}  - \\tau^{29}_{j,i,a,b}   + \\tau^{29}_{j,i,b,a}  - \\sum_{k \\in O} \\sum_{l \\in O}  \\frac{1}{4} \\tau^{30}_{k,l,b,a} \\tau^{32}_{k,l,j,i}  - \\sum_{c \\in V} \\sum_{d \\in V}  \\frac{1}{2} \\tau^{30}_{j,i,c,d} \\tau^{34}_{b,a,c,d} $$"
      ],
      "text/plain": [
       "<IPython.core.display.Math object>"
      ]
     },
     "metadata": {},
     "output_type": "display_data"
    }
   ],
   "source": [
    "for eqn in eval_seq:\n",
    "    eqn.display(False)"
   ]
  },
  {
   "cell_type": "code",
   "execution_count": null,
   "metadata": {
    "collapsed": true
   },
   "outputs": [],
   "source": []
  }
 ],
 "metadata": {
  "kernelspec": {
   "display_name": "Python 3",
   "language": "python",
   "name": "python3"
  },
  "language_info": {
   "codemirror_mode": {
    "name": "ipython",
    "version": 3
   },
   "file_extension": ".py",
   "mimetype": "text/x-python",
   "name": "python",
   "nbconvert_exporter": "python",
   "pygments_lexer": "ipython3",
   "version": "3.5.3"
  }
 },
 "nbformat": 4,
 "nbformat_minor": 2
}
